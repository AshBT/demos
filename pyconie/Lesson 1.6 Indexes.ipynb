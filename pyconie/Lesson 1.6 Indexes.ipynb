{
 "metadata": {
  "name": ""
 },
 "nbformat": 3,
 "nbformat_minor": 0,
 "worksheets": [
  {
   "cells": [
    {
     "cell_type": "markdown",
     "metadata": {},
     "source": [
      "# Indexes\n",
      "\n",
      "MongoDB supports single, compound and multikey indexes. \n",
      "You can create indexes using the shell and get `explain()` output for your queries."
     ]
    },
    {
     "cell_type": "code",
     "collapsed": false,
     "input": [
      "import pymongo\n",
      "conn = pymongo.MongoClient()\n",
      "db = conn.training\n",
      "db.scores.drop_indexes()\n",
      "db.scores.find({\"score\": {\"$lte\": 75}}).explain()"
     ],
     "language": "python",
     "metadata": {},
     "outputs": [
      {
       "metadata": {},
       "output_type": "pyout",
       "prompt_number": 1,
       "text": [
        "{u'allPlans': [{u'cursor': u'BasicCursor',\n",
        "   u'indexBounds': {},\n",
        "   u'n': 1524,\n",
        "   u'nscanned': 3000,\n",
        "   u'nscannedObjects': 3000}],\n",
        " u'cursor': u'BasicCursor',\n",
        " u'indexBounds': {},\n",
        " u'indexOnly': False,\n",
        " u'isMultiKey': False,\n",
        " u'millis': 2,\n",
        " u'n': 1524,\n",
        " u'nChunkSkips': 0,\n",
        " u'nYields': 0,\n",
        " u'nscanned': 3000,\n",
        " u'nscannedAllPlans': 3000,\n",
        " u'nscannedObjects': 3000,\n",
        " u'nscannedObjectsAllPlans': 3000,\n",
        " u'scanAndOrder': False,\n",
        " u'server': u'precise64:27017'}"
       ]
      }
     ],
     "prompt_number": 1
    },
    {
     "cell_type": "markdown",
     "metadata": {},
     "source": [
      "The explain output above says that the server had to scan all\n",
      "3000 documents in the collection to find the 1524 that matched\n",
      "the query. Lets add an index to speed things up."
     ]
    },
    {
     "cell_type": "code",
     "collapsed": false,
     "input": [
      "db.scores.ensure_index([(\"score\", pymongo.ASCENDING )])"
     ],
     "language": "python",
     "metadata": {},
     "outputs": [
      {
       "metadata": {},
       "output_type": "pyout",
       "prompt_number": 2,
       "text": [
        "u'score_1'"
       ]
      }
     ],
     "prompt_number": 2
    },
    {
     "cell_type": "markdown",
     "metadata": {},
     "source": [
      "With the index added the server only has to scan the 1524 documents that actually match the query."
     ]
    },
    {
     "cell_type": "code",
     "collapsed": false,
     "input": [
      "db.scores.find({\"score\": {\"$lte\": 75}}).explain()"
     ],
     "language": "python",
     "metadata": {},
     "outputs": [
      {
       "metadata": {},
       "output_type": "pyout",
       "prompt_number": 3,
       "text": [
        "{u'allPlans': [{u'cursor': u'BtreeCursor score_1',\n",
        "   u'indexBounds': {u'score': [[-1.7976931348623157e+308, 75]]},\n",
        "   u'n': 1524,\n",
        "   u'nscanned': 1524,\n",
        "   u'nscannedObjects': 1524}],\n",
        " u'cursor': u'BtreeCursor score_1',\n",
        " u'indexBounds': {u'score': [[-1.7976931348623157e+308, 75]]},\n",
        " u'indexOnly': False,\n",
        " u'isMultiKey': False,\n",
        " u'millis': 1,\n",
        " u'n': 1524,\n",
        " u'nChunkSkips': 0,\n",
        " u'nYields': 0,\n",
        " u'nscanned': 1524,\n",
        " u'nscannedAllPlans': 1524,\n",
        " u'nscannedObjects': 1524,\n",
        " u'nscannedObjectsAllPlans': 1524,\n",
        " u'scanAndOrder': False,\n",
        " u'server': u'precise64:27017'}"
       ]
      }
     ],
     "prompt_number": 3
    },
    {
     "cell_type": "markdown",
     "metadata": {},
     "source": [
      "You can also create compound key indexes from the shell."
     ]
    },
    {
     "cell_type": "code",
     "collapsed": false,
     "input": [
      "db.scores.ensure_index([(\"score\", pymongo.ASCENDING), (\"name\", pymongo.DESCENDING)])"
     ],
     "language": "python",
     "metadata": {},
     "outputs": [
      {
       "metadata": {},
       "output_type": "pyout",
       "prompt_number": 4,
       "text": [
        "u'score_1_name_-1'"
       ]
      }
     ],
     "prompt_number": 4
    },
    {
     "cell_type": "markdown",
     "metadata": {},
     "source": [
      "List all indexes in a collection:"
     ]
    },
    {
     "cell_type": "code",
     "collapsed": false,
     "input": [
      "db.scores.index_information()"
     ],
     "language": "python",
     "metadata": {},
     "outputs": [
      {
       "metadata": {},
       "output_type": "pyout",
       "prompt_number": 5,
       "text": [
        "{u'_id_': {u'key': [(u'_id', 1)], u'v': 1},\n",
        " u'score_1': {u'key': [(u'score', 1)], u'v': 1},\n",
        " u'score_1_name_-1': {u'key': [(u'score', 1), (u'name', -1)], u'v': 1}}"
       ]
      }
     ],
     "prompt_number": 5
    },
    {
     "cell_type": "markdown",
     "metadata": {},
     "source": [
      "See: http://docs.mongodb.org/manual/core/indexes/\n",
      "\n",
      "# Exercises\n",
      "\n",
      "1. Create an index on the 'name' field. Do a regular expression query on that field, verifying it uses an index.\n",
      "2. Remove the `score_1` index. \n",
      "3. Does finding by score still use an index?"
     ]
    }
   ],
   "metadata": {}
  }
 ]
}
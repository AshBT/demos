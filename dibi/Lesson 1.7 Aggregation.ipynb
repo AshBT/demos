{
 "metadata": {
  "name": ""
 },
 "nbformat": 3,
 "nbformat_minor": 0,
 "worksheets": [
  {
   "cells": [
    {
     "cell_type": "markdown",
     "metadata": {},
     "source": [
      "# Aggregation\n",
      "\n",
      "MongoDB provides a number of options for aggregating data. As usual we will start this lesson by inserting some example data."
     ]
    },
    {
     "cell_type": "code",
     "collapsed": false,
     "input": [
      "%%mongo test\n",
      "db.things.drop()\n",
      "db.things.insert({'x': 1, 'tags': ['dog', 'cat']})\n",
      "db.things.insert({'x': 2, 'tags': ['cat']})\n",
      "db.things.insert({'x': 3, 'tags': ['mouse', 'cat', 'dog']})\n",
      "db.things.insert({'x': 4, 'tags': []})"
     ],
     "language": "python",
     "metadata": {},
     "outputs": [
      {
       "output_type": "stream",
       "stream": "stdout",
       "text": [
        "false\n",
        "\n"
       ]
      }
     ],
     "prompt_number": 1
    },
    {
     "cell_type": "markdown",
     "metadata": {},
     "source": [
      "## Simple Aggregation\n",
      "\n",
      "The simplest aggregation method is count()"
     ]
    },
    {
     "cell_type": "code",
     "collapsed": false,
     "input": [
      "%%mongo test\n",
      "db.things.count()"
     ],
     "language": "python",
     "metadata": {},
     "outputs": [
      {
       "output_type": "stream",
       "stream": "stdout",
       "text": [
        "4\n",
        "\n"
       ]
      }
     ],
     "prompt_number": 2
    },
    {
     "cell_type": "code",
     "collapsed": false,
     "input": [
      "%%mongo test\n",
      "db.things.find({'x': 2}).count()"
     ],
     "language": "python",
     "metadata": {},
     "outputs": [
      {
       "output_type": "stream",
       "stream": "stdout",
       "text": [
        "1\n",
        "\n"
       ]
      }
     ],
     "prompt_number": 3
    },
    {
     "cell_type": "markdown",
     "metadata": {},
     "source": [
      "## Map Reduce\n",
      "\n",
      "MongoDB executes javascript server side for more advanced aggregation\n",
      "operations. Here's an example of using the mapReduce method. The\n",
      "javascript map and reduce functions are defined using variables then passed\n",
      "into the method.\n",
      "\n",
      "Note: Saving the methods as functions really helps with debugging as you can test\n",
      "them independently with test data."
     ]
    },
    {
     "cell_type": "code",
     "collapsed": false,
     "input": [
      "%%mongo test\n",
      "var mymap = function () {\n",
      "             this.tags.forEach( function(tag) { emit(tag, 1) });\n",
      "        };\n",
      "\n",
      "var myreduce = function (key, values) {\n",
      "             var total = 0;\n",
      "             for (var i = 0; i < values.length; i++) {\n",
      "               total += values[i];\n",
      "             }\n",
      "             return total\n",
      "           };\n",
      "db.things.mapReduce(mymap, myreduce, \"myresults\")\n",
      "db.myresults.find()"
     ],
     "language": "python",
     "metadata": {},
     "outputs": [
      {
       "output_type": "stream",
       "stream": "stdout",
       "text": [
        "{\n",
        "\t\"result\" : \"myresults\",\n",
        "\t\"timeMillis\" : 51,\n",
        "\t\"counts\" : {\n",
        "\t\t\"input\" : 4,\n",
        "\t\t\"emit\" : 6,\n",
        "\t\t\"reduce\" : 2,\n",
        "\t\t\"output\" : 3\n",
        "\t},\n",
        "\t\"ok\" : 1,\n",
        "}\n",
        "{ \"_id\" : \"cat\", \"value\" : 3 }\n",
        "{ \"_id\" : \"dog\", \"value\" : 2 }\n",
        "{ \"_id\" : \"mouse\", \"value\" : 1 }\n",
        "\n"
       ]
      }
     ],
     "prompt_number": 4
    },
    {
     "cell_type": "markdown",
     "metadata": {},
     "source": [
      "The output of mapReduce is stored in the collection \"myresults\". If we\n",
      "didn't want to store the results we could use PyMongo's inline_map_reduce\n",
      "method instead. The results would be returned in a list.\n",
      "\n",
      "See: http://docs.mongodb.org/manual/reference/method/db.collection.mapReduce/"
     ]
    },
    {
     "cell_type": "markdown",
     "metadata": {},
     "source": [
      "## Aggregation Framework\n",
      "\n",
      "In MongoDB 2.2 the aggregation framework was introduced.  It provides a means to calculate aggregate values \n",
      "without having to use map-reduce.\n",
      "\n",
      "If you\u2019re familiar with SQL, the aggregation framework provides similar functionality to GROUP BY and \n",
      "related SQL operators as well as simple forms of \u201cself joins.\u201d Additionally, the aggregation framework \n",
      "provides projection capabilities to reshape the returned data. Using projections and aggregation, you can \n",
      "add computed fields, create new virtual sub-objects, and extract sub-fields into the top-level of results.\n",
      "\n",
      "Conceptually, documents from a collection travel through an aggregation pipeline, which transforms these objects as they pass through. For those familiar with UNIX-like shells (e.g. bash,) the concept is analogous to the pipe (i.e. |).\n",
      "<br>\n",
      "<div style=\"text-align: center\">\n",
      "![Aggregation Pipeline Example](http://docs.mongodb.org/manual/_images/aggregation-pipeline.png)\n",
      "<p class=\"caption\">Diagram of the annotated aggregation pipeline operation. The aggregation pipeline has two phases: `$match` and `$group`.</p>\n",
      "</div>\n",
      "<br>\n",
      "\n",
      "The projection operators are: `$project`, `$match`, `$limit`, `$skip`, `$unwind`, `$group`, `$sort`, `$geoNear`.  They can be used to shape the output.  For aggregations there are the following `$group` operators: `$addToSet`, `$first`, `$last`, `$max`, `$min`, `$avg`, `$push`, `$sum`.  There are arithemtical and conditional operators as well - see:\n",
      "\n",
      "See: http://docs.mongodb.org/manual/applications/aggregation/"
     ]
    },
    {
     "cell_type": "code",
     "collapsed": false,
     "input": [
      "%%mongo test\n",
      "db.things.aggregate(\n",
      "    {\"$unwind\": \"$tags\"},\n",
      "    {\"$group\": {\"_id\": \"$tags\", \"count\": {\"$sum\": 1}}},\n",
      "    {\"$sort\": {\"count\": -1, \"_id\": -1}},\n",
      "    {\"$project\": {\"test\": \"$_id\", \"_id\": 0, \"count\": \"$count\"}}\n",
      ")"
     ],
     "language": "python",
     "metadata": {},
     "outputs": [
      {
       "output_type": "stream",
       "stream": "stdout",
       "text": [
        "{\n",
        "\t\"result\" : [\n",
        "\t\t{\n",
        "\t\t\t\"count\" : 3,\n",
        "\t\t\t\"test\" : \"cat\"\n",
        "\t\t},\n",
        "\t\t{\n",
        "\t\t\t\"count\" : 2,\n",
        "\t\t\t\"test\" : \"dog\"\n",
        "\t\t},\n",
        "\t\t{\n",
        "\t\t\t\"count\" : 1,\n",
        "\t\t\t\"test\" : \"mouse\"\n",
        "\t\t}\n",
        "\t],\n",
        "\t\"ok\" : 1\n",
        "}\n",
        "\n"
       ]
      }
     ],
     "prompt_number": 8
    },
    {
     "cell_type": "markdown",
     "metadata": {},
     "source": [
      "# Exercises\n",
      "\n",
      "1. Run an aggregation to pivot the data in the `things` collection and group each tag with its corresponding x value eg:\n",
      "<code>\n",
      "{\n",
      "    \"_id\" : \"cat\",\n",
      "    \"x\" : [3, 2, 1]\n",
      "}\n",
      "</code>\n",
      "1. In the `scores` collection using the aggregation framework, sum all the scores\n",
      "  1. which score has the highest count?\n",
      "  1. Which score has the lowest count?\n",
      "1. Work through the example at: http://docs.mongodb.org/manual/tutorial/aggregation-zip-code-data-set/"
     ]
    }
   ],
   "metadata": {}
  }
 ]
}
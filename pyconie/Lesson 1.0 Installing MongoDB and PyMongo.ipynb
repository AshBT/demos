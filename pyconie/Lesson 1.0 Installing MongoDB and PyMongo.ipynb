{
 "metadata": {
  "name": ""
 },
 "nbformat": 3,
 "nbformat_minor": 0,
 "worksheets": [
  {
   "cells": [
    {
     "cell_type": "markdown",
     "metadata": {},
     "source": [
      "# Lesson 1.0: Installing MongoDB and PyMongo\n",
      "\n",
      "First of all, we need a place to put all the files we'll be using. If you're on \n",
      "Windows, let's call that directory `C:\\Tutorial`. On Mac or Linux, we'll just put\n",
      "everything into `~/tutorial`. This is the directory we'll mean when we say \n",
      "\"tutorial home.\"\n",
      "\n",
      "## Download and install MongoDB\n",
      "\n",
      "The next thing you'll need is a copy of the MongoDB server from mongodb. Find\n",
      "the appropriate download for your platform at <http://www.mongodb.org/downloads>.\n",
      "For each of these downloads, you just need to unzip the downloaded file to get a \n",
      "ready-to run server. Run the following commands in your tutorial directory.\n",
      "\n",
      "I have a copy of the latest 2.4.6 version of mongodb on a memory stick.\n",
      "\n",
      "## Verify that MongoDB is installed correctly\n",
      "\n",
      "Next, you need to run the server and make sure it's configured properly.\n",
      "\n",
      "<code>\n",
      "    $ cd mongodb-src-r2.4.6\n",
      "    $ ./bin/mongod --dbpath . --nojournal &\n",
      "</code>\n",
      "\n",
      "Once this is running, switch to another window, cd to your tutorial home, and\n",
      "attempt to connect:\n",
      "\n",
      "    $ ./bin/mongo \n",
      "\n",
      "If you see something like\n",
      "\n",
      "    MongoDB shell version: 2.4.6\n",
      "    connecting to: test\n",
      "    > \n",
      "\n",
      "Then everything's working fine. Type `exit` to quit.\n",
      "\n",
      "## Insert the example data\n",
      "\n",
      "We will need some example data for part of the tutorial - also on the memory stick or:\n",
      "\n",
      "<code>\n",
      "    $ wget https://raw.github.com/rozza/demos/master/pyconie/data/scores.json\n",
      "    $ ./bin/mongoimport -d training -c scores scores.json\n",
      "</code>\n",
      "\n",
      "## Install a virtualenv for the tutorial\n",
      "\n",
      "To keep this tutorial from stomping on anything else you have installed, we'll \n",
      "set up a virtual environment. Go back to your tutorial home and download \n",
      "virtualenv (unless you already have it installed):\n",
      "\n",
      "<code>\n",
      "    $ wget http://pypi.python.org/packages/source/v/virtualenv/virtualenv-1.10.1.tar.gz\n",
      "    $ tar xzf virtualenv-1.10.1.tar.gz\n",
      "    $ cd virtualenv-1.10.1\n",
      "    $ python setup.py install\n",
      "</code>\n",
      "\n",
      "Now that the virtualenv tool is installed, we can install a virtual environment\n",
      "(a kind of sandbox) for our Python modules. Go back to your tutorial home \n",
      "directory and install and activate the virtualenv:\n",
      "\n",
      "<code>\n",
      "    $ cd ..\n",
      "    $ virtualenv tutorial-env\n",
      "    $ source tutorial-env/bin/activate\n",
      "    (tutorial-env) $\n",
      "</code>\n",
      "\n",
      "## Install pymongo and ipython\n",
      "\n",
      "Now that we've installed our virtualenv and we're sure we won't muck up any of \n",
      "our system Python libs, let's go ahead and install pymongo and ipython:\n",
      "\n",
      "    $ pip install pymongo ipython\n",
      "\n",
      "And just to make absolutely certain everything is working, launch ipython and \n",
      "import pymongo:\n",
      "\n",
      "    $ ipython\n",
      "    "
     ]
    },
    {
     "cell_type": "code",
     "collapsed": true,
     "input": [
      "import pymongo\n",
      "print(pymongo.version)"
     ],
     "language": "python",
     "metadata": {},
     "outputs": [
      {
       "output_type": "stream",
       "stream": "stdout",
       "text": [
        "2.6.2\n"
       ]
      }
     ],
     "prompt_number": 1
    },
    {
     "cell_type": "markdown",
     "metadata": {},
     "source": [
      "That's it! Time to move on to the next lesson...."
     ]
    }
   ],
   "metadata": {}
  }
 ]
}
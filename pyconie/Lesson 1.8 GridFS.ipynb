{
 "metadata": {
  "name": ""
 },
 "nbformat": 3,
 "nbformat_minor": 0,
 "worksheets": [
  {
   "cells": [
    {
     "cell_type": "markdown",
     "metadata": {},
     "source": [
      "# GridFS\n",
      "\n",
      "A single MongoDB document is limited to 16MB in size. This is generally large\n",
      "enough for textual data but what if you want to store large binary files in\n",
      "MongoDB? GridFS is the answer. GridFS is a protocol implemented by PyMongo\n",
      "to store binary data in document \"chunks\" on the server, bypassing the document\n",
      "size limit.\n",
      "\n",
      "Here's a simple example inserting some text using the gridfs module."
     ]
    },
    {
     "cell_type": "code",
     "collapsed": true,
     "input": [
      "import pymongo\n",
      "conn = pymongo.MongoClient()\n",
      "conn.drop_database(\"test\")\n",
      "\n",
      "import gridfs\n",
      "db = conn.gridfs_example\n",
      "gfs = gridfs.GridFS(db)\n",
      "a = gfs.put(\"Hello Europython!\")"
     ],
     "language": "python",
     "metadata": {},
     "outputs": [],
     "prompt_number": 6
    },
    {
     "cell_type": "markdown",
     "metadata": {},
     "source": [
      "Now lets read the data back. GridFS is implemented using file-like\n",
      "objects. The get method returns a GridOut object that provides file\n",
      "methods like read, readline, seek, tell, and close."
     ]
    },
    {
     "cell_type": "code",
     "collapsed": false,
     "input": [
      "f = gfs.get(a)\n",
      "f.read()"
     ],
     "language": "python",
     "metadata": {},
     "outputs": [
      {
       "output_type": "pyout",
       "prompt_number": 7,
       "text": [
        "'Hello Europython!'"
       ]
      }
     ],
     "prompt_number": 7
    },
    {
     "cell_type": "markdown",
     "metadata": {},
     "source": [
      "Here's another example inserting the same file but including some metadata to be stored with it."
     ]
    },
    {
     "cell_type": "code",
     "collapsed": false,
     "input": [
      "b = gfs.put(gfs.get(a), filename=\"foo\", bar=\"baz\")\n",
      "out = gfs.get(b)\n",
      "out.read()"
     ],
     "language": "python",
     "metadata": {},
     "outputs": [
      {
       "output_type": "pyout",
       "prompt_number": 8,
       "text": [
        "'Hello Europython!'"
       ]
      }
     ],
     "prompt_number": 8
    },
    {
     "cell_type": "markdown",
     "metadata": {},
     "source": [
      "The file metadata can be accessed as attributes of the GridOut object."
     ]
    },
    {
     "cell_type": "code",
     "collapsed": false,
     "input": [
      "out.filename"
     ],
     "language": "python",
     "metadata": {},
     "outputs": [
      {
       "output_type": "pyout",
       "prompt_number": 9,
       "text": [
        "u'foo'"
       ]
      }
     ],
     "prompt_number": 9
    },
    {
     "cell_type": "code",
     "collapsed": false,
     "input": [
      "out.bar"
     ],
     "language": "python",
     "metadata": {},
     "outputs": [
      {
       "output_type": "pyout",
       "prompt_number": 10,
       "text": [
        "u'baz'"
       ]
      }
     ],
     "prompt_number": 10
    },
    {
     "cell_type": "markdown",
     "metadata": {},
     "source": [
      "An upload date is stored with each file in gridfs."
     ]
    },
    {
     "cell_type": "code",
     "collapsed": false,
     "input": [
      "out.upload_date"
     ],
     "language": "python",
     "metadata": {},
     "outputs": [
      {
       "output_type": "pyout",
       "prompt_number": 11,
       "text": [
        "datetime.datetime(2012, 7, 2, 10, 33, 25, 910000)"
       ]
      }
     ],
     "prompt_number": 11
    },
    {
     "cell_type": "markdown",
     "metadata": {},
     "source": [
      "# Exercises\n",
      "\n",
      "1. Store a file from your home directory in MongoDB using GridFS. Now read it back."
     ]
    }
   ],
   "metadata": {}
  }
 ]
}
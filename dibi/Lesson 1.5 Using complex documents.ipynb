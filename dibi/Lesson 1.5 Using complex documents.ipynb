{
 "metadata": {
  "name": ""
 },
 "nbformat": 3,
 "nbformat_minor": 0,
 "worksheets": [
  {
   "cells": [
    {
     "cell_type": "markdown",
     "metadata": {},
     "source": [
      "# MongoDB can handle complex documents\n",
      "\n",
      "So far all our document examples have been simple, but mongodb can store complex documents, that contain sub documents or arrays or both!\n",
      "Here is a canonical blog post example:\n"
     ]
    },
    {
     "cell_type": "code",
     "collapsed": false,
     "input": [
      "%%mongo \n",
      "db.blog.drop()\n",
      "var post = {\"author\": \"Ross\",\n",
      "            \"post\": \"Design it, Build it! Today I was....\",\n",
      "            \"comments\": [{\"author\": \"Bob\", \"post\": \"Best tutorial ever!\"},\n",
      "                         {\"author\": \"Alice\", \"post\": \"MongoDB looks great!\"},\n",
      "                         {\"author\": \"Alice\", \"post\": \"MongoDB looks great AGain!\"}],\n",
      "            \"comment_count\": 2,\n",
      "            \"date\": ISODate(\"2013-10-04T13:41:15Z\")}\n",
      "db.blog.insert(post)"
     ],
     "language": "python",
     "metadata": {},
     "outputs": [
      {
       "output_type": "stream",
       "stream": "stdout",
       "text": [
        "true\n",
        "\n"
       ]
      }
     ],
     "prompt_number": 5
    },
    {
     "cell_type": "markdown",
     "metadata": {},
     "source": [
      "## Querying into Subdocuments\n",
      "\n",
      "Queries can examine fields inside subdocuments, too. There are a couple ways to examine subdocuments. This is \u201cquery by example\u201d on a subdocument:"
     ]
    },
    {
     "cell_type": "code",
     "collapsed": false,
     "input": [
      "%%mongo\n",
      "db.blog.find({\"comments\": {\"author\": \"Alice\"}})"
     ],
     "language": "python",
     "metadata": {},
     "outputs": [
      {
       "output_type": "stream",
       "stream": "stdout",
       "text": [
        "\n"
       ]
      }
     ],
     "prompt_number": 1
    },
    {
     "cell_type": "markdown",
     "metadata": {},
     "source": [
      "The above query will find documents in a collection whose `comments` value is exactly the document `{\"author\": \"Alice\"}`, nothing more, nothing less. If you want to find documents whose `comments` field is any document with `author` field whose value is `Alice`, MongoDB has a separate syntax, called \"`dot notation`\":"
     ]
    },
    {
     "cell_type": "code",
     "collapsed": false,
     "input": [
      "%%mongo\n",
      "db.blog.find({\"comments.author\": \"Alice\"}, {\"comments.$.author\": 1}).pretty()"
     ],
     "language": "python",
     "metadata": {},
     "outputs": [
      {
       "output_type": "stream",
       "stream": "stdout",
       "text": [
        "{\n",
        "\t\"_id\" : ObjectId(\"5252cdd4e459c4c25569ebc4\"),\n",
        "\t\"comments\" : [\n",
        "\t\t{\n",
        "\t\t\t\"author\" : \"Alice\",\n",
        "\t\t\t\"post\" : \"MongoDB looks great!\"\n",
        "\t\t}\n",
        "\t]\n",
        "}\n",
        "\n"
       ]
      }
     ],
     "prompt_number": 6
    },
    {
     "cell_type": "markdown",
     "metadata": {},
     "source": [
      "This matches, for example, documents whose `author` field is the embedded `{\"author\": \"Alice\"}` or `{\"z\": \"abc\", \"author\": \"Alice\"}`, or any other embedded document having a `author` field that's `Alice`. "
     ]
    },
    {
     "cell_type": "markdown",
     "metadata": {},
     "source": [
      "\n",
      "# Queries and arrays\n",
      "\n",
      "Queries that examine arrays will compare each element in the array with the argument to the matching predicate. "
     ]
    },
    {
     "cell_type": "code",
     "collapsed": false,
     "input": [
      "%%mongo\n",
      "db.students.drop()\n",
      "db.students.insert([{ \"_id\" : 1, \"grades\" : [ 80, 85, 90 ]  },\n",
      "                    { \"_id\" : 2, \"grades\" : [ 88, 90, 92 ]  },\n",
      "                    { \"_id\" : 3, \"grades\" : [ 85, 100, 90 ] }])"
     ],
     "language": "python",
     "metadata": {},
     "outputs": [
      {
       "output_type": "stream",
       "stream": "stdout",
       "text": [
        "false\n",
        "\n"
       ]
      }
     ],
     "prompt_number": 4
    },
    {
     "cell_type": "markdown",
     "metadata": {},
     "source": [
      "For example, both:"
     ]
    },
    {
     "cell_type": "code",
     "collapsed": false,
     "input": [
      "%%mongo\n",
      "db.students.find({\"grades\": 100})"
     ],
     "language": "python",
     "metadata": {},
     "outputs": [
      {
       "output_type": "stream",
       "stream": "stdout",
       "text": [
        "{ \"_id\" : 3, \"grades\" : [ 85, 100, 90 ] }\n",
        "\n"
       ]
      }
     ],
     "prompt_number": 5
    },
    {
     "cell_type": "markdown",
     "metadata": {},
     "source": [
      "and"
     ]
    },
    {
     "cell_type": "code",
     "collapsed": false,
     "input": [
      "%%mongo\n",
      "db.students.find({\"grades\": {\"$gt\": 94}})"
     ],
     "language": "python",
     "metadata": {},
     "outputs": [
      {
       "output_type": "stream",
       "stream": "stdout",
       "text": [
        "{ \"_id\" : 3, \"grades\" : [ 85, 100, 90 ] }\n",
        "\n"
       ]
      }
     ],
     "prompt_number": 6
    },
    {
     "cell_type": "markdown",
     "metadata": {},
     "source": [
      "match the same document - where `grades` is the array [ 85, 100, 90 ]. In the first case, 100 is present in the array and in the\n",
      "second case, at least one element of the array is greater than 94.\n",
      "\n",
      "### Updating items in an array\n",
      "\n",
      "Querying is easy as it matches documents where any item in the array meets the query requirements.  Updating array elements can be done by position:"
     ]
    },
    {
     "cell_type": "code",
     "collapsed": false,
     "input": [
      "%%mongo\n",
      "db.students.update({\"_id\": 3}, {\"$set\": {\"grades.1\": 0 } })\n",
      "db.students.findOne({\"_id\": 3})"
     ],
     "language": "python",
     "metadata": {},
     "outputs": [
      {
       "output_type": "stream",
       "stream": "stdout",
       "text": [
        "{ \"_id\" : 3, \"grades\" : [ 85, 0, 90 ] }\n",
        "\n"
       ]
      }
     ],
     "prompt_number": 7
    },
    {
     "cell_type": "markdown",
     "metadata": {},
     "source": [
      "### Updating with the positional operator\n",
      "\n",
      "However, you don't always know the position of the item in the array.  For that reason there is the positional `$` operator, which identifies an element in an array field to update without explicitly specifying the position of the element.\n",
      "\n",
      "When used with the `update()` method:\n",
      "\n",
      "* the positional `$` operator acts as a placeholder for the **first element** that matches the query document\n",
      "* the array field **must** appear as part of the query document.\n",
      "\n",
      "So below, we reset the users grade back to 100, by matching the user and the grade that we changed. Then setting it to be 100 using the positional operator."
     ]
    },
    {
     "cell_type": "code",
     "collapsed": false,
     "input": [
      "%%mongo\n",
      "db.students.update({ \"_id\": 3, \"grades\": 0 }, {\"$set\": {\"grades.$\" : 100 }})\n",
      "db.students.findOne({\"_id\": 3})"
     ],
     "language": "python",
     "metadata": {},
     "outputs": [
      {
       "output_type": "stream",
       "stream": "stdout",
       "text": [
        "{ \"_id\" : 3, \"grades\" : [ 85, 100, 90 ] }\n",
        "\n"
       ]
      }
     ],
     "prompt_number": 8
    },
    {
     "cell_type": "markdown",
     "metadata": {},
     "source": [
      "See: http://docs.mongodb.org/manual/reference/operator/positional/"
     ]
    },
    {
     "cell_type": "markdown",
     "metadata": {},
     "source": [
      "# Exercises\n",
      "\n",
      "1. Insert a new comment to the blog post and `$inc` the `comment_count`\n",
      "1. Can the positional operator be used with `find()`? try finding all comments by `Bob` and outputting only `author`.\n"
     ]
    }
   ],
   "metadata": {}
  }
 ]
}
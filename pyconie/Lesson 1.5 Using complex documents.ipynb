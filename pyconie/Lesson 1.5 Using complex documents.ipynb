{
 "metadata": {
  "name": ""
 },
 "nbformat": 3,
 "nbformat_minor": 0,
 "worksheets": [
  {
   "cells": [
    {
     "cell_type": "markdown",
     "metadata": {},
     "source": [
      "# MongoDB can handle complex documents\n",
      "\n",
      "So far all our document examples have been simple, but mongodb can store complex documents, that contain sub documents or arrays or both!\n",
      "Here is a canonical blog post example:\n"
     ]
    },
    {
     "cell_type": "code",
     "collapsed": false,
     "input": [
      "import datetime\n",
      "import pymongo\n",
      "conn = pymongo.MongoClient()\n",
      "conn.drop_database('test')\n",
      "db = conn.test\n",
      "post = {\"author\": \"Ross\",\n",
      "        \"post\": \"Design it, Build it! Today I was....\",\n",
      "        \"comments\": [{\"author\": \"Bob\", \"post\": \"Best tutorial ever!\"},\n",
      "                     {\"author\": \"Alice\", \"post\": \"MongoDB looks great!\"}],\n",
      "        \"comment_count\": 2,\n",
      "        \"date\": datetime.datetime.now()}\n",
      "db.blog.insert(post)"
     ],
     "language": "python",
     "metadata": {},
     "outputs": [
      {
       "metadata": {},
       "output_type": "pyout",
       "prompt_number": 1,
       "text": [
        "ObjectId('52568fc056c02c12ee0167ea')"
       ]
      }
     ],
     "prompt_number": 1
    },
    {
     "cell_type": "markdown",
     "metadata": {},
     "source": [
      "## Querying into Subdocuments\n",
      "\n",
      "Queries can examine fields inside subdocuments, too. There are a couple ways to examine subdocuments. This is \u201cquery by example\u201d on a subdocument:"
     ]
    },
    {
     "cell_type": "code",
     "collapsed": false,
     "input": [
      "db.blog.find_one({\"comments\": {\"author\": \"Alice\"}})"
     ],
     "language": "python",
     "metadata": {},
     "outputs": [],
     "prompt_number": 5
    },
    {
     "cell_type": "markdown",
     "metadata": {},
     "source": [
      "The above query will find documents in a collection whose `comments` value is exactly the document `{\"author\": \"Alice\"}`, nothing more, nothing less. If you want to find documents whose `comments` field is any document with `author` field whose value is `Alice`, MongoDB has a separate syntax, called \"`dot notation`\":"
     ]
    },
    {
     "cell_type": "code",
     "collapsed": false,
     "input": [
      "db.blog.find_one({\"comments.author\": \"Alice\"})"
     ],
     "language": "python",
     "metadata": {},
     "outputs": [
      {
       "metadata": {},
       "output_type": "pyout",
       "prompt_number": 6,
       "text": [
        "{u'_id': ObjectId('52568fc056c02c12ee0167ea'),\n",
        " u'author': u'Ross',\n",
        " u'comment_count': 2,\n",
        " u'comments': [{u'author': u'Bob', u'post': u'Best tutorial ever!'},\n",
        "  {u'author': u'Alice', u'post': u'MongoDB looks great!'}],\n",
        " u'date': datetime.datetime(2013, 10, 10, 11, 30, 8, 778000),\n",
        " u'post': u'Design it, Build it! Today I was....'}"
       ]
      }
     ],
     "prompt_number": 6
    },
    {
     "cell_type": "markdown",
     "metadata": {},
     "source": [
      "This matches, for example, documents whose `author` field is the embedded `{\"author\": \"Alice\"}` or `{\"z\": \"abc\", \"author\": \"Alice\"}`, or any other embedded document having a `author` field that's `Alice`. "
     ]
    },
    {
     "cell_type": "markdown",
     "metadata": {},
     "source": [
      "\n",
      "# Queries and arrays\n",
      "\n",
      "Queries that examine arrays will compare each element in the array with the argument to the matching predicate. To start lets create a simple students collection storing grades:"
     ]
    },
    {
     "cell_type": "code",
     "collapsed": false,
     "input": [
      "db.students.insert([{ \"_id\" : 1, \"grades\" : [ 80, 85, 90 ]  },\n",
      "                    { \"_id\" : 2, \"grades\" : [ 88, 90, 92 ]  },\n",
      "                    { \"_id\" : 3, \"grades\" : [ 85, 100, 90 ] }])"
     ],
     "language": "python",
     "metadata": {},
     "outputs": [
      {
       "metadata": {},
       "output_type": "pyout",
       "prompt_number": 7,
       "text": [
        "[1, 2, 3]"
       ]
      }
     ],
     "prompt_number": 7
    },
    {
     "cell_type": "markdown",
     "metadata": {},
     "source": [
      "For example, both:"
     ]
    },
    {
     "cell_type": "code",
     "collapsed": false,
     "input": [
      "db.students.find_one({\"grades\": 100})"
     ],
     "language": "python",
     "metadata": {},
     "outputs": [
      {
       "metadata": {},
       "output_type": "pyout",
       "prompt_number": 9,
       "text": [
        "{u'_id': 3, u'grades': [85, 100, 90]}"
       ]
      }
     ],
     "prompt_number": 9
    },
    {
     "cell_type": "markdown",
     "metadata": {},
     "source": [
      "and"
     ]
    },
    {
     "cell_type": "code",
     "collapsed": false,
     "input": [
      "db.students.find_one({\"grades\": {\"$gt\": 94}})"
     ],
     "language": "python",
     "metadata": {},
     "outputs": [
      {
       "metadata": {},
       "output_type": "pyout",
       "prompt_number": 10,
       "text": [
        "{u'_id': 3, u'grades': [85, 100, 90]}"
       ]
      }
     ],
     "prompt_number": 10
    },
    {
     "cell_type": "markdown",
     "metadata": {},
     "source": [
      "match the same document - where `grades` is the array [ 85, 100, 90 ]. In the first case, 100 is present in the array and in the\n",
      "second case, at least one element of the array is greater than 94.\n",
      "\n",
      "### Updating items in an array\n",
      "\n",
      "Querying is easy as it matches documents where any item in the array meets the query requirements.  Updating array elements can be done by position:"
     ]
    },
    {
     "cell_type": "code",
     "collapsed": false,
     "input": [
      "db.students.update({\"_id\": 3}, {\"$set\": {\"grades.1\": 0 } })\n",
      "db.students.find_one({\"_id\": 3})"
     ],
     "language": "python",
     "metadata": {},
     "outputs": [
      {
       "metadata": {},
       "output_type": "pyout",
       "prompt_number": 11,
       "text": [
        "{u'_id': 3, u'grades': [85, 0, 90]}"
       ]
      }
     ],
     "prompt_number": 11
    },
    {
     "cell_type": "markdown",
     "metadata": {},
     "source": [
      "### Updating with the positional operator\n",
      "\n",
      "However, you don't always know the position of the item in the array.  For that reason there is the positional `$` operator, which identifies an element in an array field to update without explicitly specifying the position of the element.\n",
      "\n",
      "When used with the `update()` method:\n",
      "\n",
      "* the positional `$` operator acts as a placeholder for the **first element** that matches the query document\n",
      "* the array field **must** appear as part of the query document.\n",
      "\n",
      "So below, we reset the users grade back to 100, by matching the user and the grade that we changed. Then setting it to be 100 using the positional operator."
     ]
    },
    {
     "cell_type": "code",
     "collapsed": false,
     "input": [
      "db.students.update({ \"_id\": 3, \"grades\": 0 }, {\"$set\": {\"grades.$\" : 100 }})\n",
      "db.students.find_one({\"_id\": 3})"
     ],
     "language": "python",
     "metadata": {},
     "outputs": [
      {
       "metadata": {},
       "output_type": "pyout",
       "prompt_number": 12,
       "text": [
        "{u'_id': 3, u'grades': [85, 100, 90]}"
       ]
      }
     ],
     "prompt_number": 12
    },
    {
     "cell_type": "markdown",
     "metadata": {},
     "source": [
      "See: http://docs.mongodb.org/manual/reference/operator/positional/"
     ]
    },
    {
     "cell_type": "markdown",
     "metadata": {},
     "source": [
      "# Exercises\n",
      "\n",
      "1. Insert a new comment to the blog post and `$inc` the `comment_count`\n",
      "1. Can the projection operator be used with `find()`? try finding all comments by `Bob` and outputting only `author`.\n",
      "1. Write a query to update all grades with the value of `90` grades to `80`. (hint you'll need multi)\n",
      "1. The grading was deemed to be too easy, using an `update()` query and `$inc` remove `5` from grades greater than `90`. "
     ]
    }
   ],
   "metadata": {}
  }
 ]
}
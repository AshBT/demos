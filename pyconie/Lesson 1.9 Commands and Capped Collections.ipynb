{
 "metadata": {
  "name": ""
 },
 "nbformat": 3,
 "nbformat_minor": 0,
 "worksheets": [
  {
   "cells": [
    {
     "cell_type": "markdown",
     "metadata": {},
     "source": [
      "# Commands\n",
      "\n",
      "MongoDB provides statistics about your collections but you need to call the actual commands.\n",
      "For database wide statistics call the `dbstats` command:"
     ]
    },
    {
     "cell_type": "code",
     "collapsed": false,
     "input": [
      "import pymongo\n",
      "conn = pymongo.MongoClient()\n",
      "conn.drop_database('test')\n",
      "\n",
      "db = conn.test\n",
      "db.test.insert({'hello': 'world'})\n",
      "\n",
      "db.command({'dbstats': 1})"
     ],
     "language": "python",
     "metadata": {},
     "outputs": [
      {
       "output_type": "pyout",
       "prompt_number": 1,
       "text": [
        "{u'avgObjSize': 42.399999999999999,\n",
        " u'collections': 3,\n",
        " u'dataSize': 212,\n",
        " u'db': u'example',\n",
        " u'fileSize': 201326592,\n",
        " u'indexSize': 8176,\n",
        " u'indexes': 1,\n",
        " u'nsSizeMB': 16,\n",
        " u'numExtents': 3,\n",
        " u'objects': 5,\n",
        " u'ok': 1.0,\n",
        " u'storageSize': 12288}"
       ]
      }
     ],
     "prompt_number": 1
    },
    {
     "cell_type": "markdown",
     "metadata": {},
     "source": [
      "To get collection statistics use the `collstats` command and pass in the collection\n",
      "name that you want stats for."
     ]
    },
    {
     "cell_type": "code",
     "collapsed": false,
     "input": [
      "db.command({'collstats': 'test'})"
     ],
     "language": "python",
     "metadata": {},
     "outputs": [
      {
       "output_type": "pyout",
       "prompt_number": 2,
       "text": [
        "{u'avgObjSize': 40.0,\n",
        " u'count': 1,\n",
        " u'indexSizes': {u'_id_': 8176},\n",
        " u'lastExtentSize': 4096,\n",
        " u'nindexes': 1,\n",
        " u'ns': u'example.test',\n",
        " u'numExtents': 1,\n",
        " u'ok': 1.0,\n",
        " u'paddingFactor': 1.0,\n",
        " u'size': 40,\n",
        " u'storageSize': 4096,\n",
        " u'systemFlags': 1,\n",
        " u'totalIndexSize': 8176,\n",
        " u'userFlags': 0}"
       ]
      }
     ],
     "prompt_number": 2
    },
    {
     "cell_type": "markdown",
     "metadata": {},
     "source": [
      "# Capped collections\n",
      "\n",
      "Capped collections are fixed sized collections that have a very high performance auto-FIFO age-out feature \n",
      "(age out is based on insertion order)."
     ]
    },
    {
     "cell_type": "code",
     "collapsed": false,
     "input": [
      "db.create_collection('capped', capped=True, size=1000)\n",
      "\n",
      "for i in xrange(1, 1000):\n",
      "    db.capped.insert({'name': \"%s\" % i, \"value\": i})\n",
      "\n",
      "db.capped.count()"
     ],
     "language": "python",
     "metadata": {},
     "outputs": [
      {
       "output_type": "pyout",
       "prompt_number": 3,
       "text": [
        "59"
       ]
      }
     ],
     "prompt_number": 3
    },
    {
     "cell_type": "markdown",
     "metadata": {},
     "source": [
      "## Tailable cursors\n",
      "\n",
      "A tailable cursor \"tails\" the end of a *capped collection*, much like the Unix \"tail -f\" command. \n",
      "They key idea is that if we \"catch up\" and have reached the end of the collection, \n",
      "our position is remembered rather than the cursor being closed. \n",
      "Thus, after new objects are inserted, we can resume retrieving from where we left off \u2013 which is then \n",
      "very inexpensive. If you reach the end of the collection and request more data, the cursor will \n",
      "block waiting for new documents to be inserted."
     ]
    },
    {
     "cell_type": "code",
     "collapsed": true,
     "input": [
      "run = False #  Done so I dont break Ipython notebook\n",
      "import time\n",
      "\n",
      "cursor = db.capped.find(tailable=True)\n",
      "while cursor.alive and run:\n",
      "    try:\n",
      "        doc = cursor.next()\n",
      "        print doc\n",
      "    except StopIteration:\n",
      "        time.sleep(1)"
     ],
     "language": "python",
     "metadata": {},
     "outputs": [],
     "prompt_number": 4
    },
    {
     "cell_type": "markdown",
     "metadata": {},
     "source": [
      "# Exercises\n",
      "\n",
      "1. List all the collections in the `example` database\n",
      "1. After loading data into the `capped` collection what is its size?\n",
      "1. Why are there only 59 documents in the `capped` collection?\n",
      "1. List the indexes for the `capped` collection\n",
      "1. Test the tailable cursor by creating a tailable cursor in one shell and in another add some data\n",
      "1. What happens if you try to create a tailable cursor on the `test` collection?"
     ]
    }
   ],
   "metadata": {}
  }
 ]
}
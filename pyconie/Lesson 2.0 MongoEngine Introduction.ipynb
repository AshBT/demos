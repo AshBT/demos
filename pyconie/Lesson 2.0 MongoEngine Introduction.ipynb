{
 "metadata": {
  "name": ""
 },
 "nbformat": 3,
 "nbformat_minor": 0,
 "worksheets": [
  {
   "cells": [
    {
     "cell_type": "markdown",
     "metadata": {},
     "source": [
      "# Mongoengine Introduction\n",
      "\n",
      "PyMongo is extremely flexible and fast but sometime writing schema validation\n",
      "can be cumbersome.   MongoEngine is a Document-Object Mapper for working with \n",
      "MongoDB from Python. It uses a simple declarative API, similar to the Django ORM.\n",
      "\n",
      "## What does MongoEngine do?\n",
      "\n",
      "MongoEngine provides several main facilities:\n",
      "\n",
      " - schema validation and enforcement\n",
      " - an object-document mapper providing higher-level constructs such as \n",
      "   - a unit of work pattern\n",
      "   - relations between documents\n",
      "\n",
      "This lesson will teach you to install MongoEngine and how to use it."
     ]
    },
    {
     "cell_type": "markdown",
     "metadata": {},
     "source": [
      "## Installing MongoEngine\n",
      "\n",
      "Due to some dependency issues, you will need to install `PasteDeploy` and `Paste` before \n",
      "installing MongoEngine:\n",
      "    (tutorial-env) $ pip install MongoEngine\n",
      "\n",
      "Hopefully that proceeded without any problems, and now you should be able to\n",
      "import MongoEngine from Python."
     ]
    },
    {
     "cell_type": "code",
     "collapsed": true,
     "input": [
      "import mongoengine"
     ],
     "language": "python",
     "metadata": {},
     "outputs": [],
     "prompt_number": 1
    },
    {
     "cell_type": "markdown",
     "metadata": {},
     "source": [
      "## Connecting to MongoDB\n",
      "\n",
      "Connecting to MongoEngine is simple, here we are connecting to the tumblelog database:"
     ]
    },
    {
     "cell_type": "code",
     "collapsed": false,
     "input": [
      "from mongoengine import connect\n",
      "\n",
      "conn = connect('tumblelog')\n",
      "conn"
     ],
     "language": "python",
     "metadata": {},
     "outputs": [
      {
       "metadata": {},
       "output_type": "pyout",
       "prompt_number": 2,
       "text": [
        "MongoClient('localhost', 27017)"
       ]
      }
     ],
     "prompt_number": 2
    },
    {
     "cell_type": "markdown",
     "metadata": {},
     "source": [
      "## Defining a collection\n",
      "\n",
      "So far, we have shown how you only how to connect to PyMongo without any real benefit. \n",
      "Now, let's actually do something useful: create our first collection. Our schema will be based around a\n",
      "tumblelog application"
     ]
    },
    {
     "cell_type": "code",
     "collapsed": false,
     "input": [
      "import datetime\n",
      "import mongoengine as db\n",
      "\n",
      "\n",
      "class Post(db.Document):\n",
      "    created_at = db.DateTimeField(default=datetime.datetime.now, required=True)\n",
      "    title = db.StringField(max_length=255, required=True)\n",
      "    slug = db.StringField(max_length=255, required=True)\n",
      "    body = db.StringField(required=True)\n",
      "    \n",
      "    def __unicode__(self):\n",
      "        return self.title or \"New Post\"\n",
      "\n",
      "Post.drop_collection()   # Drop collection\n",
      "    \n",
      "Post()"
     ],
     "language": "python",
     "metadata": {},
     "outputs": [
      {
       "metadata": {},
       "output_type": "pyout",
       "prompt_number": 3,
       "text": [
        "<Post: New Post>"
       ]
      }
     ],
     "prompt_number": 3
    },
    {
     "cell_type": "markdown",
     "metadata": {},
     "source": [
      "What we've done here is create a Post document class that represents post documents\n",
      "in the `tumblelog.post` collection."
     ]
    },
    {
     "cell_type": "markdown",
     "metadata": {},
     "source": [
      "### Default Values\n",
      "\n",
      "By setting a `default` value to the field definitions you can declare default values.  Default values can\n",
      "also be callable functions eg: `datetime.datetime.now` will set the current time on creation of a post:"
     ]
    },
    {
     "cell_type": "code",
     "collapsed": false,
     "input": [
      "post = Post()\n",
      "post.created_at"
     ],
     "language": "python",
     "metadata": {},
     "outputs": [
      {
       "metadata": {},
       "output_type": "pyout",
       "prompt_number": 4,
       "text": [
        "datetime.datetime(2013, 10, 10, 12, 3, 28, 532045)"
       ]
      }
     ],
     "prompt_number": 4
    },
    {
     "cell_type": "markdown",
     "metadata": {},
     "source": [
      "### Invalid values\n",
      "\n",
      "MongoEngine won't throw an exception when you set an invalid attribute but will throw it on `save` or when\n",
      "calling `validate`:"
     ]
    },
    {
     "cell_type": "code",
     "collapsed": false,
     "input": [
      "post.created_at = \"This should be a date\"\n",
      "try:\n",
      "    post.validate()\n",
      "except Exception, e:\n",
      "    print e.errors['created_at']"
     ],
     "language": "python",
     "metadata": {},
     "outputs": [
      {
       "output_type": "stream",
       "stream": "stdout",
       "text": [
        "cannot parse date \"This should be a date\"\n"
       ]
      }
     ],
     "prompt_number": 5
    },
    {
     "cell_type": "markdown",
     "metadata": {},
     "source": [
      "## Saving and querying\n",
      "\n",
      "Now we have defined our model lets look at how we can add posts and then how we can \n",
      "find documents once in the database.\n",
      "\n",
      "### Saving documents"
     ]
    },
    {
     "cell_type": "code",
     "collapsed": false,
     "input": [
      "post = Post(title=\"mongoengine post\", \n",
      "            slug=\"mongoengine-post\", \n",
      "            body=\"Welcome to Europython 2012!\")\n",
      "post.save()"
     ],
     "language": "python",
     "metadata": {},
     "outputs": [
      {
       "metadata": {},
       "output_type": "pyout",
       "prompt_number": 6,
       "text": [
        "<Post: mongoengine post>"
       ]
      }
     ],
     "prompt_number": 6
    },
    {
     "cell_type": "markdown",
     "metadata": {},
     "source": [
      "The save method will then save the data in mongoDB.  By default all saves in MongoEngine are synchronous\n",
      "and set the write concern to `safe`.\n",
      "\n",
      "**Note:** saves in pymongo will save the *whole* document and in MongoEngine if the document exists \n",
      "then any changes will be converted to updates."
     ]
    },
    {
     "cell_type": "markdown",
     "metadata": {},
     "source": [
      "### Raw data\n",
      "\n",
      "MongoEngine by default no longer stores extra meta data to the documents stored in mongoDB.  If you need polymorphism then it will store an extra field **`_cls`** so it knows what class to use for a document.\n",
      "\n",
      "Below we use native pymongo to show the how the data is stored in mongoDB."
     ]
    },
    {
     "cell_type": "code",
     "collapsed": false,
     "input": [
      "Post._get_collection().find_one()"
     ],
     "language": "python",
     "metadata": {},
     "outputs": [
      {
       "metadata": {},
       "output_type": "pyout",
       "prompt_number": 7,
       "text": [
        "{u'_id': ObjectId('5256979056c02c13707c3d1e'),\n",
        " u'body': u'Welcome to Europython 2012!',\n",
        " u'created_at': datetime.datetime(2013, 10, 10, 12, 3, 28, 619000),\n",
        " u'slug': u'mongoengine-post',\n",
        " u'title': u'mongoengine post'}"
       ]
      }
     ],
     "prompt_number": 7
    },
    {
     "cell_type": "markdown",
     "metadata": {},
     "source": [
      "### Querying\n",
      "\n",
      "MongoEngine uses a similar declaritive syntax to Django.  To query you need to use the `Queryset Manager`\n",
      "called `objects`.  You can explicitly call `filter`:"
     ]
    },
    {
     "cell_type": "code",
     "collapsed": false,
     "input": [
      "Post.objects.filter()"
     ],
     "language": "python",
     "metadata": {},
     "outputs": [
      {
       "metadata": {},
       "output_type": "pyout",
       "prompt_number": 8,
       "text": [
        "[<Post: mongoengine post>]"
       ]
      }
     ],
     "prompt_number": 8
    },
    {
     "cell_type": "markdown",
     "metadata": {},
     "source": [
      "Or just apply the filter when calling `objects`:"
     ]
    },
    {
     "cell_type": "code",
     "collapsed": false,
     "input": [
      "Post.objects()"
     ],
     "language": "python",
     "metadata": {},
     "outputs": [
      {
       "metadata": {},
       "output_type": "pyout",
       "prompt_number": 9,
       "text": [
        "[<Post: mongoengine post>]"
       ]
      }
     ],
     "prompt_number": 9
    },
    {
     "cell_type": "markdown",
     "metadata": {},
     "source": [
      "To filter you can pass keywords to limit the results returned."
     ]
    },
    {
     "cell_type": "code",
     "collapsed": false,
     "input": [
      "Post.objects(slug=\"mongoengine-post\")"
     ],
     "language": "python",
     "metadata": {},
     "outputs": [
      {
       "metadata": {},
       "output_type": "pyout",
       "prompt_number": 10,
       "text": [
        "[<Post: mongoengine post>]"
       ]
      }
     ],
     "prompt_number": 10
    },
    {
     "cell_type": "markdown",
     "metadata": {},
     "source": [
      "### Skips and limits\n",
      "\n",
      "\n",
      "Sometimes you need to paginate through your result set.  There are two ways to achive this with MongoEngine,\n",
      "chaining `skip` and `limit` or by using a slice:"
     ]
    },
    {
     "cell_type": "code",
     "collapsed": false,
     "input": [
      "post = Post(title=\"second post\", \n",
      "            slug=\"second-post\", \n",
      "            body=\"Lets skip!\").save()\n",
      "Post.objects().skip(1).limit(1)"
     ],
     "language": "python",
     "metadata": {},
     "outputs": [
      {
       "metadata": {},
       "output_type": "pyout",
       "prompt_number": 11,
       "text": [
        "[<Post: second post>]"
       ]
      }
     ],
     "prompt_number": 11
    },
    {
     "cell_type": "code",
     "collapsed": false,
     "input": [
      "Post.objects()[1:2]"
     ],
     "language": "python",
     "metadata": {},
     "outputs": [
      {
       "metadata": {},
       "output_type": "pyout",
       "prompt_number": 12,
       "text": [
        "[<Post: second post>]"
       ]
      }
     ],
     "prompt_number": 12
    },
    {
     "cell_type": "markdown",
     "metadata": {},
     "source": [
      "### Updating documents\n",
      "\n",
      "You can use `save` to update a document, but in pymongo that would overwrite the whole document and could\n",
      "create a race condition.  As its better to be explicit use the `$set` atomic updates - these are expressed as\n",
      "*operation\\_name*__*field\\_name* eg:"
     ]
    },
    {
     "cell_type": "code",
     "collapsed": false,
     "input": [
      "Post.objects(slug=\"mongoengine-post\").update(set__title=\"MongoEngine Post\")\n",
      "Post.objects.first()"
     ],
     "language": "python",
     "metadata": {},
     "outputs": [
      {
       "metadata": {},
       "output_type": "pyout",
       "prompt_number": 13,
       "text": [
        "<Post: MongoEngine Post>"
       ]
      }
     ],
     "prompt_number": 13
    },
    {
     "cell_type": "markdown",
     "metadata": {},
     "source": [
      "### Deleting documents\n",
      "\n",
      "To delete a document you can call the `delete` method on the document or a queryset:"
     ]
    },
    {
     "cell_type": "code",
     "collapsed": true,
     "input": [
      "# Delete a single document\n",
      "post = Post.objects.first()\n",
      "post.delete() \n",
      "\n",
      "# Delete all matching documents\n",
      "Post.objects().delete()\n",
      "\n",
      "# Drop the collection\n",
      "Post.drop_collection()"
     ],
     "language": "python",
     "metadata": {},
     "outputs": [],
     "prompt_number": 14
    },
    {
     "cell_type": "markdown",
     "metadata": {},
     "source": [
      "# Exercises\n",
      "\n",
      "1. Create a Python module containing the tumblelog model. \n",
      "1. Create a couple of posts in your database\n",
      "1. Using the `post.delete()` method, remove an instance of a post.\n",
      "1. Using the `unset` update operator remove a slug from your first post.\n",
      "   What happens when loading that post?  What happens if you try to `validate` it?\n",
      "1. Using the `set` operator what happens if you try to set a value for a field that doesn't exist eg. tags?\n",
      "1. Try to insert two posts with the same slug. What happens?"
     ]
    }
   ],
   "metadata": {}
  }
 ]
}
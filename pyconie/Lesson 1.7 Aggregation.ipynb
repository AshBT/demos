{
 "metadata": {
  "name": ""
 },
 "nbformat": 3,
 "nbformat_minor": 0,
 "worksheets": [
  {
   "cells": [
    {
     "cell_type": "markdown",
     "metadata": {},
     "source": [
      "# Aggregation\n",
      "\n",
      "MongoDB provides a number of options for aggregating data. As usual we will start this lesson by inserting some example data."
     ]
    },
    {
     "cell_type": "code",
     "collapsed": false,
     "input": [
      "import pymongo\n",
      "conn = pymongo.MongoClient()\n",
      "conn.drop_database(\"test\")\n",
      "db = conn.test\n",
      "db.things.insert({'x': 1, 'tags': ['dog', 'cat']})\n",
      "db.things.insert({'x': 2, 'tags': ['cat']})\n",
      "db.things.insert({'x': 3, 'tags': ['mouse', 'cat', 'dog']})\n",
      "db.things.insert({'x': 4, 'tags': []})"
     ],
     "language": "python",
     "metadata": {},
     "outputs": [
      {
       "metadata": {},
       "output_type": "pyout",
       "prompt_number": 1,
       "text": [
        "ObjectId('525696da56c02c1355b94654')"
       ]
      }
     ],
     "prompt_number": 1
    },
    {
     "cell_type": "markdown",
     "metadata": {},
     "source": [
      "## Simple Aggregation\n",
      "\n",
      "The simplest aggregation method is count()"
     ]
    },
    {
     "cell_type": "code",
     "collapsed": false,
     "input": [
      "db.things.count()"
     ],
     "language": "python",
     "metadata": {},
     "outputs": [
      {
       "metadata": {},
       "output_type": "pyout",
       "prompt_number": 2,
       "text": [
        "4"
       ]
      }
     ],
     "prompt_number": 2
    },
    {
     "cell_type": "code",
     "collapsed": false,
     "input": [
      "db.things.find({'x': 2}).count()"
     ],
     "language": "python",
     "metadata": {},
     "outputs": [
      {
       "metadata": {},
       "output_type": "pyout",
       "prompt_number": 3,
       "text": [
        "1"
       ]
      }
     ],
     "prompt_number": 3
    },
    {
     "cell_type": "markdown",
     "metadata": {},
     "source": [
      "## Map Reduce\n",
      "\n",
      "MongoDB executes javascript server side for more advanced aggregation\n",
      "operations. Here's an example of using PyMongo's map_reduce method. The\n",
      "javascript map and reduce functions are defined using instances of\n",
      "bson.code.Code."
     ]
    },
    {
     "cell_type": "code",
     "collapsed": false,
     "input": [
      "from bson.code import Code\n",
      "mymap = Code(\"function () {\"\n",
      "             \"  this.tags.forEach(function(z) {\"\n",
      "             \"    emit(z, 1);\"\n",
      "             \"  });\"\n",
      "             \"}\")\n",
      "myreduce = Code(\"function (key, values) {\"\n",
      "                \"  var total = 0;\"\n",
      "                \"  for (var i = 0; i < values.length; i++) {\"\n",
      "                \"    total += values[i];\"\n",
      "                \"  }\"\n",
      "                \"  return total;\"\n",
      "                \"}\")\n",
      "coll = db.things.map_reduce(mymap, myreduce, \"myresults\")\n",
      "for doc in coll.find(): print doc"
     ],
     "language": "python",
     "metadata": {},
     "outputs": [
      {
       "output_type": "stream",
       "stream": "stdout",
       "text": [
        "{u'_id': u'cat', u'value': 3.0}\n",
        "{u'_id': u'dog', u'value': 2.0}\n",
        "{u'_id': u'mouse', u'value': 1.0}\n"
       ]
      }
     ],
     "prompt_number": 4
    },
    {
     "cell_type": "markdown",
     "metadata": {},
     "source": [
      "The output of map_reduce is stored in the collection \"myresults\". If we\n",
      "didn't want to store the results we could use PyMongo's inline_map_reduce\n",
      "method instead. The results would be returned in a list.\n",
      "\n",
      "See: http://docs.mongodb.org/manual/reference/method/db.collection.mapReduce/"
     ]
    },
    {
     "cell_type": "markdown",
     "metadata": {},
     "source": [
      "## Aggregation Framework\n",
      "\n",
      "In MongoDB 2.2 the aggregation framework was introduced.  It provides a means to calculate aggregate values \n",
      "without having to use map-reduce.\n",
      "\n",
      "If you\u2019re familiar with SQL, the aggregation framework provides similar functionality to GROUP BY and \n",
      "related SQL operators as well as simple forms of \u201cself joins.\u201d Additionally, the aggregation framework \n",
      "provides projection capabilities to reshape the returned data. Using projections and aggregation, you can \n",
      "add computed fields, create new virtual sub-objects, and extract sub-fields into the top-level of results.\n",
      "\n",
      "Conceptually, documents from a collection travel through an aggregation pipeline, which transforms these objects as they pass through. For those familiar with UNIX-like shells (e.g. bash,) the concept is analogous to the pipe (i.e. |).\n",
      "<br>\n",
      "<div style=\"text-align: center\">\n",
      "![Aggregation Pipeline Example](http://docs.mongodb.org/manual/_images/aggregation-pipeline.png)\n",
      "<p class=\"caption\">Diagram of the annotated aggregation pipeline operation. The aggregation pipeline has two phases: `$match` and `$group`.</p>\n",
      "</div>\n",
      "<br>\n",
      "\n",
      "The projection operators are: `$project`, `$match`, `$limit`, `$skip`, `$unwind`, `$group`, `$sort`, `$geoNear`.  They can be used to shape the output.  For aggregations there are the following `$group` operators: `$addToSet`, `$first`, `$last`, `$max`, `$min`, `$avg`, `$push`, `$sum`.  There are arithemtical and conditional operators as well - see:\n",
      "\n",
      "See: http://docs.mongodb.org/manual/applications/aggregation/"
     ]
    },
    {
     "cell_type": "code",
     "collapsed": false,
     "input": [
      "db.command(\"aggregate\", \"things\", pipeline=[\n",
      "    {\"$unwind\": \"$tags\"},\n",
      "    {\"$group\": {\"_id\": \"$tags\", \"count\": {\"$sum\": 1}}},\n",
      "    {\"$sort\": {\"count\": -1, \"_id\": -1}}\n",
      "])"
     ],
     "language": "python",
     "metadata": {},
     "outputs": [
      {
       "metadata": {},
       "output_type": "pyout",
       "prompt_number": 5,
       "text": [
        "{u'ok': 1.0,\n",
        " u'result': [{u'_id': u'cat', u'count': 3},\n",
        "  {u'_id': u'dog', u'count': 2},\n",
        "  {u'_id': u'mouse', u'count': 1}]}"
       ]
      }
     ],
     "prompt_number": 5
    },
    {
     "cell_type": "markdown",
     "metadata": {},
     "source": [
      "# Exercises\n",
      "\n",
      "1. Run an aggregation to pivot the data in the `things` collection and group each tag with its corresponding x value eg:\n",
      "<code>\n",
      "{\n",
      "    \"_id\" : \"cat\",\n",
      "    \"x\" : [3, 2, 1]\n",
      "}\n",
      "</code>\n",
      "1. In the `scores` collection using the aggregation framework, sum all the scores\n",
      "  1. which score has the highest count?\n",
      "  1. Which score has the lowest count?\n",
      "1. Work through the example at: http://docs.mongodb.org/manual/tutorial/aggregation-zip-code-data-set/"
     ]
    }
   ],
   "metadata": {}
  }
 ]
}
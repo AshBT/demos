{
 "metadata": {
  "name": ""
 },
 "nbformat": 3,
 "nbformat_minor": 0,
 "worksheets": [
  {
   "cells": [
    {
     "cell_type": "markdown",
     "metadata": {},
     "source": [
      "# Embedding or Linking\n",
      "There are no joins in MongoDB but you do get powerful and flexible dictionary style documents over\n",
      "simple rows.  When it comes to modelling data in MongoDB you have a choice, you can embed that data\n",
      "and keep it local or you can link to that data but there is a cost of an extra join but it can be \n",
      "easier to query\n",
      "\n",
      "# Embedded Documents\n",
      "\n",
      "MongoEngine has an `EmbeddedDocument` class for describing the schema of embedded data.  Essentially \n",
      "its very similar to a `Document` but there is less `meta` magic handling indexes and setting up \n",
      "`QuerySet Managers`.\n",
      "\n",
      "## Comments\n",
      "\n",
      "So lets add `Comments` as an embedded list to our `Post` model.  First define a comment:"
     ]
    },
    {
     "cell_type": "code",
     "collapsed": false,
     "input": [
      "import datetime\n",
      "import mongoengine as db\n",
      "\n",
      "conn = db.connect('tumblelog')\n",
      "conn.drop_database('tumblelog')\n",
      "\n",
      "class Comment(db.EmbeddedDocument):\n",
      "    created_at = db.DateTimeField(default=datetime.datetime.now, required=True)\n",
      "    body = db.StringField(verbose_name=\"Comment\", required=True)\n",
      "    author = db.StringField(verbose_name=\"Name\", max_length=255, required=True)\n",
      "\n",
      "    def __unicode__(self):\n",
      "        return (u\"comment by %s\" % self.author) if self.author else \"New Comment\"\n",
      "    \n",
      "Comment()"
     ],
     "language": "python",
     "metadata": {},
     "outputs": [
      {
       "metadata": {},
       "output_type": "pyout",
       "prompt_number": 1,
       "text": [
        "<Comment: New Comment>"
       ]
      }
     ],
     "prompt_number": 1
    },
    {
     "cell_type": "markdown",
     "metadata": {},
     "source": [
      "Now update the `Post` document definition to add in comments.  As this is a one-to-many relationship -\n",
      "a post can have 0 or many documents we use the `ListField` type and pass in the `EmbeddedDocumentField` \n",
      "for the individual comments:"
     ]
    },
    {
     "cell_type": "code",
     "collapsed": true,
     "input": [
      "class Post(db.Document):\n",
      "    created_at = db.DateTimeField(default=datetime.datetime.now, required=True)\n",
      "    title = db.StringField(max_length=255, required=True)\n",
      "    slug = db.StringField(max_length=255, required=True)\n",
      "    body = db.StringField(required=True)\n",
      "    comments = db.ListField(db.EmbeddedDocumentField('Comment'))\n",
      "    \n",
      "    def __unicode__(self):\n",
      "        return unicode(self.title) or u\"New Post\""
     ],
     "language": "python",
     "metadata": {},
     "outputs": [],
     "prompt_number": 2
    },
    {
     "cell_type": "markdown",
     "metadata": {},
     "source": [
      "Lets ensure this works, add some data and see how we can query against the embedded data."
     ]
    },
    {
     "cell_type": "code",
     "collapsed": false,
     "input": [
      "Post(title=\"mongoengine post\", \n",
      "     slug=\"mongoengine-post\", \n",
      "     body=\"Welcome to Europython 2012!\").save()\n",
      "\n",
      "comment_1 = Comment(author=\"Ross\",\n",
      "                    body=\"Nice post thanks\")\n",
      "comment_2 = Comment(author=\"Bob\",\n",
      "                    body=\"Florence rocks!\")\n",
      "\n",
      "Post.objects.update(push_all__comments=[comment_1, comment_2])\n",
      "\n",
      "post = Post.objects.first()\n",
      "post.comments"
     ],
     "language": "python",
     "metadata": {},
     "outputs": [
      {
       "metadata": {},
       "output_type": "pyout",
       "prompt_number": 3,
       "text": [
        "[<Comment: comment by Ross>, <Comment: comment by Bob>]"
       ]
      }
     ],
     "prompt_number": 3
    },
    {
     "cell_type": "markdown",
     "metadata": {},
     "source": [
      "### Querying against embedded data\n",
      "\n",
      "Now we have some comments, we can look at querying comments to find documents that match.  To query an `EmbeddedDocument` we use a dunder (double underscore) eg: `parent_field_name__embedded_field_name=expected_value`:"
     ]
    },
    {
     "cell_type": "code",
     "collapsed": false,
     "input": [
      "Post.objects(comments__author=\"Ross\")"
     ],
     "language": "python",
     "metadata": {},
     "outputs": [
      {
       "metadata": {},
       "output_type": "pyout",
       "prompt_number": 4,
       "text": [
        "[<Post: mongoengine post>]"
       ]
      }
     ],
     "prompt_number": 4
    },
    {
     "cell_type": "markdown",
     "metadata": {},
     "source": [
      "As you can see that matches all documents where Ross has authored a comment.\n",
      "\n",
      "## Updating Embedded data\n",
      "\n",
      "This is similar to how you updated an ordinary document eg:  \n",
      "**update\\_operation**\\_\\_*parent\\_field\\_name*\\_\\_*embedded\\_field\\_name*=value.  \n",
      "\n",
      "When dealing with lists you can also match against position by using the \n",
      "`positional operator $`.  As symbols aren't allowed in keyword arguments (without using\n",
      "dictionaries) you can use **S** as the positional match.  The positional operator will\n",
      "only update the first list element that matches the query.  eg:"
     ]
    },
    {
     "cell_type": "code",
     "collapsed": false,
     "input": [
      "Post.objects(comments__author=\"Ross\").update(set__comments__S__author=\"Rozza\")\n",
      "Post.objects.first().comments"
     ],
     "language": "python",
     "metadata": {},
     "outputs": [
      {
       "metadata": {},
       "output_type": "pyout",
       "prompt_number": 5,
       "text": [
        "[<Comment: comment by Rozza>, <Comment: comment by Bob>]"
       ]
      }
     ],
     "prompt_number": 5
    },
    {
     "cell_type": "markdown",
     "metadata": {},
     "source": [
      "## Paginating comments\n",
      "\n",
      "MongoDB's query language is focused on returning documents.  However, you can reduce how much\n",
      "data is sent over the wire by paginate through a list fields by using the `slice` operator to\n",
      "skip and limit the returned list items:"
     ]
    },
    {
     "cell_type": "code",
     "collapsed": false,
     "input": [
      "post = Post.objects.fields(slice__comments=[1,1]).first()\n",
      "post.comments"
     ],
     "language": "python",
     "metadata": {},
     "outputs": [
      {
       "metadata": {},
       "output_type": "pyout",
       "prompt_number": 6,
       "text": [
        "[<Comment: comment by Bob>]"
       ]
      }
     ],
     "prompt_number": 6
    },
    {
     "cell_type": "markdown",
     "metadata": {},
     "source": [
      "# Relations\n",
      "\n",
      "MongoEngine also handles relationships similar conceptially similar to Foreign Keys, however, \n",
      "you cannot query through a foreign key.  In the background MongoEngine will collect all the \n",
      "references up and then issue extra queries to get the data.\n",
      "\n",
      "## Author\n",
      "\n",
      "Lets add a `User` class and add `Author` to the Post."
     ]
    },
    {
     "cell_type": "code",
     "collapsed": false,
     "input": [
      "class User(db.Document):\n",
      "    email = db.StringField(required=True)\n",
      "    first_name = db.StringField(max_length=50)\n",
      "    last_name = db.StringField(max_length=50)\n",
      "\n",
      "ross = User(email=\"ross@mongodb.com\", first_name=\"Ross\", last_name=\"Lawley\").save()\n",
      "ross"
     ],
     "language": "python",
     "metadata": {},
     "outputs": [
      {
       "metadata": {},
       "output_type": "pyout",
       "prompt_number": 7,
       "text": [
        "<User: User object>"
       ]
      }
     ],
     "prompt_number": 7
    },
    {
     "cell_type": "code",
     "collapsed": true,
     "input": [
      "class Post(db.Document):\n",
      "    created_at = db.DateTimeField(default=datetime.datetime.now, required=True)\n",
      "    title = db.StringField(max_length=255, required=True)\n",
      "    slug = db.StringField(max_length=255, required=True)\n",
      "    body = db.StringField(required=True)\n",
      "    author = db.ReferenceField('User', required=True)\n",
      "    comments = db.ListField(db.EmbeddedDocumentField('Comment'))\n",
      "    \n",
      "    def __unicode__(self):\n",
      "        return unicode(self.title) or u\"New Post\"\n",
      "\n",
      "# Migrate!\n",
      "Post.objects.update(set__author=ross)"
     ],
     "language": "python",
     "metadata": {},
     "outputs": [
      {
       "metadata": {},
       "output_type": "pyout",
       "prompt_number": 8,
       "text": [
        "1"
       ]
      }
     ],
     "prompt_number": 8
    },
    {
     "cell_type": "markdown",
     "metadata": {},
     "source": [
      "# Exercises\n",
      "\n",
      "1. Create a couple of posts in your database and add comments to each post.\n",
      "1. Write a loop that paginates through the comments of a post.\n",
      "1. Write some code to find all comments by a particular author.  \n",
      "1. What are the advantages and disadvantages of Embedding data?\n",
      "1. What happens if you try to query through a ReferenceField?"
     ]
    }
   ],
   "metadata": {}
  }
 ]
}
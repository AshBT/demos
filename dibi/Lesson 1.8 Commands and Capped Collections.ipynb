{
 "metadata": {
  "name": ""
 },
 "nbformat": 3,
 "nbformat_minor": 0,
 "worksheets": [
  {
   "cells": [
    {
     "cell_type": "markdown",
     "metadata": {},
     "source": [
      "# Commands\n",
      "\n",
      "MongoDB provides statistics about your collections but you need to call the actual commands.\n",
      "For database wide statistics call the `dbstats` command:"
     ]
    },
    {
     "cell_type": "code",
     "collapsed": false,
     "input": [
      "%%mongo\n",
      "db.test.insert({'hello': 'world'})\n",
      "db.stats()"
     ],
     "language": "python",
     "metadata": {},
     "outputs": [
      {
       "output_type": "stream",
       "stream": "stdout",
       "text": [
        "{\n",
        "\t\"db\" : \"training\",\n",
        "\t\"collections\" : 6,\n",
        "\t\"objects\" : 3022,\n",
        "\t\"avgObjSize\" : 63.99470549305096,\n",
        "\t\"dataSize\" : 193392,\n",
        "\t\"storageSize\" : 380928,\n",
        "\t\"numExtents\" : 9,\n",
        "\t\"indexes\" : 6,\n",
        "\t\"indexSize\" : 327040,\n",
        "\t\"fileSize\" : 16777216,\n",
        "\t\"nsSizeMB\" : 16,\n",
        "\t\"dataFileVersion\" : {\n",
        "\t\t\"major\" : 4,\n",
        "\t\t\"minor\" : 5\n",
        "\t},\n",
        "\t\"ok\" : 1\n",
        "}\n",
        "\n"
       ]
      }
     ],
     "prompt_number": 1
    },
    {
     "cell_type": "markdown",
     "metadata": {},
     "source": [
      "To get collection statistics use the `collstats` command and pass in the collection\n",
      "name that you want stats for."
     ]
    },
    {
     "cell_type": "code",
     "collapsed": false,
     "input": [
      "%%mongo\n",
      "db.test.stats()"
     ],
     "language": "python",
     "metadata": {},
     "outputs": [
      {
       "output_type": "stream",
       "stream": "stdout",
       "text": [
        "{\n",
        "\t\"ns\" : \"training.test\",\n",
        "\t\"count\" : 1,\n",
        "\t\"size\" : 40,\n",
        "\t\"avgObjSize\" : 40,\n",
        "\t\"storageSize\" : 4096,\n",
        "\t\"numExtents\" : 1,\n",
        "\t\"nindexes\" : 1,\n",
        "\t\"lastExtentSize\" : 4096,\n",
        "\t\"paddingFactor\" : 1,\n",
        "\t\"systemFlags\" : 1,\n",
        "\t\"userFlags\" : 0,\n",
        "\t\"totalIndexSize\" : 8176,\n",
        "\t\"indexSizes\" : {\n",
        "\t\t\"_id_\" : 8176\n",
        "\t},\n",
        "\t\"ok\" : 1\n",
        "}\n",
        "\n"
       ]
      }
     ],
     "prompt_number": 2
    },
    {
     "cell_type": "markdown",
     "metadata": {},
     "source": [
      "# Capped collections\n",
      "\n",
      "Capped collections are fixed sized collections that have a very high performance auto-FIFO age-out feature \n",
      "(age out is based on insertion order).\n",
      "\n",
      "See: http://docs.mongodb.org/manual/core/capped-collections/"
     ]
    },
    {
     "cell_type": "code",
     "collapsed": false,
     "input": [
      "%%mongo\n",
      "db.createCollection( \"capped\", { capped: true, size: 1000 } )\n",
      "for (var i = 0; i < 1000; i++) {\n",
      "  db.capped.insert({\"name\": \"doc-\" + i, \"value\": i})\n",
      "}\n",
      "\n",
      "db.capped.count()"
     ],
     "language": "python",
     "metadata": {},
     "outputs": [
      {
       "output_type": "stream",
       "stream": "stdout",
       "text": [
        "{ \"ok\" : 1 }\n",
        "53\n",
        "\n"
       ]
      }
     ],
     "prompt_number": 1
    },
    {
     "cell_type": "markdown",
     "metadata": {},
     "source": [
      "## Tailable cursors\n",
      "\n",
      "A tailable cursor \"tails\" the end of a *capped collection*, much like the Unix \"tail -f\" command. \n",
      "They key idea is that if we \"catch up\" and have reached the end of the collection, \n",
      "our position is remembered rather than the cursor being closed. \n",
      "Thus, after new objects are inserted, we can resume retrieving from where we left off \u2013 which is then \n",
      "very inexpensive. If you reach the end of the collection and request more data, the cursor will \n",
      "block waiting for new documents to be inserted."
     ]
    },
    {
     "cell_type": "markdown",
     "metadata": {},
     "source": [
      "<code language=\"javascript\">\n",
      "    while(1){\n",
      "        cursor = db.capped.find();\n",
      "        // tailable\n",
      "        cursor.addOption( 2 );\n",
      "        // await data\n",
      "        cursor.addOption( 32 );\n",
      "     \n",
      "        while( cursor.hasNext() ){\n",
      "            var doc = cursor.next();\n",
      "            printjson( doc );\n",
      "        }\n",
      "    }\n",
      "</code>"
     ]
    },
    {
     "cell_type": "markdown",
     "metadata": {},
     "source": [
      "# Exercises\n",
      "\n",
      "1. List all the collections in the `training` database\n",
      "1. After loading data into the `capped` collection what is its size?\n",
      "1. Why are there only 59 documents in the `capped` collection?\n",
      "1. List the indexes for the `capped` collection\n",
      "1. Test the tailable cursor by creating a tailable cursor in one shell and in another add some data\n",
      "1. What happens if you try to create a tailable cursor on the `test` collection?"
     ]
    }
   ],
   "metadata": {}
  }
 ]
}
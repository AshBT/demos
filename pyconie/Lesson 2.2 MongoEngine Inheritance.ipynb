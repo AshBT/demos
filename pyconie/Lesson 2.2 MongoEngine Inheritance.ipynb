{
 "metadata": {
  "name": ""
 },
 "nbformat": 3,
 "nbformat_minor": 0,
 "worksheets": [
  {
   "cells": [
    {
     "cell_type": "markdown",
     "metadata": {},
     "source": [
      "\n",
      "# Inheritance\n",
      "\n",
      "MongoEngine allows you to define documents that inherit from each other.  In the raw data MongoEngine creates\n",
      "a **_types** list that lists all the inherited document classes for a document.  \n",
      "\n",
      "Currently, inheritance is on by default but in the next major release it will be off by default, so to\n",
      "future proof we set `allow_inheritance` to True in the meta.\n",
      "\n",
      "## Initial setup\n",
      "\n",
      "Lets get our schema setup as before with clean data."
     ]
    },
    {
     "cell_type": "code",
     "collapsed": false,
     "input": [
      "import datetime\n",
      "import mongoengine as db\n",
      "\n",
      "conn = db.connect('tumblelog')\n",
      "conn.drop_database('tumblelog')\n",
      "\n",
      "\n",
      "class Post(db.Document):\n",
      "    created_at = db.DateTimeField(default=datetime.datetime.now, required=True)\n",
      "    title = db.StringField(max_length=255, required=True)\n",
      "    slug = db.StringField(max_length=255, required=True)\n",
      "    body = db.StringField(required=True)\n",
      "    author = db.ReferenceField('User', required=True)\n",
      "    comments = db.ListField(db.EmbeddedDocumentField('Comment'))\n",
      "\n",
      "    def __unicode__(self):\n",
      "        return unicode(self.title) or u\"New Post\"\n",
      "\n",
      "\n",
      "class Comment(db.EmbeddedDocument):\n",
      "    created_at = db.DateTimeField(default=datetime.datetime.now, required=True)\n",
      "    body = db.StringField(verbose_name=\"Comment\", required=True)\n",
      "    author = db.StringField(verbose_name=\"Name\", max_length=255, required=True)\n",
      "\n",
      "    def __unicode__(self):\n",
      "        return (u\"comment by %s\" % self.author) if self.author else \"New Comment\"\n",
      "\n",
      "\n",
      "class User(db.Document):\n",
      "    email = db.StringField(required=True)\n",
      "    first_name = db.StringField(max_length=50)\n",
      "    last_name = db.StringField(max_length=50)\n",
      "\n",
      "ross = User(email=\"ross@10gen.com\",\n",
      "            first_name=\"Ross\",\n",
      "            last_name=\"Lawley\").save()\n",
      "\n",
      "Post(title=\"mongoengine post\",\n",
      "     slug=\"mongoengine-post\",\n",
      "     body=\"Welcome to Europython 2012!\",\n",
      "     author=ross).save()\n",
      "\n",
      "comment_1 = Comment(author=\"Bob\",\n",
      "                    body=\"Nice post thanks\")\n",
      "comment_2 = Comment(author=\"Ross\",\n",
      "                    body=\"Florence rocks!\")\n",
      "\n",
      "Post.objects.update(push_all__comments=[comment_1, comment_2])\n",
      "\n",
      "post = Post.objects.first()\n",
      "post"
     ],
     "language": "python",
     "metadata": {},
     "outputs": [
      {
       "metadata": {},
       "output_type": "pyout",
       "prompt_number": 1,
       "text": [
        "<Post: mongoengine post>"
       ]
      }
     ],
     "prompt_number": 1
    },
    {
     "cell_type": "markdown",
     "metadata": {},
     "source": [
      "## Coverting from a Blog to a Tumblelog\n",
      "\n",
      "Currently we just have `Posts` but we've named our collection as `tumblelog` we can use inheritance to\n",
      "extend the `Post` schema.  Lets add the following types of posts: BlogPost, Video, Image, Quote.\n",
      "\n",
      "**Note:** We redefine `Post` to remove the `body` field as this is only needed for `BlogPosts`."
     ]
    },
    {
     "cell_type": "code",
     "collapsed": false,
     "input": [
      "class Post(db.Document):\n",
      "    created_at = db.DateTimeField(default=datetime.datetime.now, required=True)\n",
      "    title = db.StringField(max_length=255, required=True)\n",
      "    slug = db.StringField(max_length=255, required=True)\n",
      "    author = db.ReferenceField('User', required=True)\n",
      "    comments = db.ListField(db.EmbeddedDocumentField('Comment'))\n",
      "\n",
      "    def __unicode__(self):\n",
      "        return unicode(self.title) or u\"New Post\"\n",
      "    \n",
      "    meta = {'allow_inheritance': True}\n",
      "\n",
      "\n",
      "class BlogPost(Post):\n",
      "    body = db.StringField(required=True)\n",
      "\n",
      "\n",
      "class Video(Post):\n",
      "    embed_code = db.StringField(required=True)\n",
      "\n",
      "\n",
      "class Image(Post):\n",
      "    image_url = db.StringField(required=True, max_length=255)\n",
      "\n",
      "\n",
      "class Quote(Post):\n",
      "    body = db.StringField(required=True)\n",
      "\n",
      "# Migrate the old Post to a BlogPost\n",
      "BlogPost(**post.to_mongo()).save()\n",
      "BlogPost.objects()"
     ],
     "language": "python",
     "metadata": {},
     "outputs": [
      {
       "metadata": {},
       "output_type": "pyout",
       "prompt_number": 2,
       "text": [
        "[<BlogPost: mongoengine post>]"
       ]
      }
     ],
     "prompt_number": 2
    },
    {
     "cell_type": "markdown",
     "metadata": {},
     "source": [
      "## Querying Inherited Documents\n",
      "\n",
      "Because of the way MongoEngine stores inherited documents, we can query using the lowest Document class and\n",
      "MongoEngine will return the correct instance for each Type of Document."
     ]
    },
    {
     "cell_type": "code",
     "collapsed": false,
     "input": [
      "Post.objects()"
     ],
     "language": "python",
     "metadata": {},
     "outputs": [
      {
       "metadata": {},
       "output_type": "pyout",
       "prompt_number": 3,
       "text": [
        "[<BlogPost: mongoengine post>]"
       ]
      }
     ],
     "prompt_number": 3
    },
    {
     "cell_type": "code",
     "collapsed": false,
     "input": [
      "tim = User(email=\"tim.peters@example.com\", \n",
      "           first_name=\"Tim\", \n",
      "           last_name=\"Peters\").save()\n",
      "\n",
      "Quote(title=\"Zen of Python\",\n",
      "     slug=\"zen-of-python\",\n",
      "     body=\"Beautiful is better than ugly. Explicit is better than implicit...\",\n",
      "     author=tim).save()\n",
      "\n",
      "Post.objects.all()"
     ],
     "language": "python",
     "metadata": {},
     "outputs": [
      {
       "metadata": {},
       "output_type": "pyout",
       "prompt_number": 4,
       "text": [
        "[<BlogPost: mongoengine post>, <Quote: Zen of Python>]"
       ]
      }
     ],
     "prompt_number": 4
    },
    {
     "cell_type": "markdown",
     "metadata": {},
     "source": [
      "# Advanced features - Document Meta\n",
      "\n",
      "The main way we control the schema, inheritance and indexes is via the `meta` attribute.\n",
      "As mentioned previously inheritance is controlled by setting the `allow_inheritance` option\n",
      "in the meta.\n",
      "\n",
      "## Indexes\n",
      "\n",
      "By defining `indexes` to the `meta` of a document you can control which indexes are created.\n",
      "Below is an example of how you can create indexes:"
     ]
    },
    {
     "cell_type": "code",
     "collapsed": false,
     "input": [
      "class SomeDoc(db.Document):\n",
      "    date = db.DateTimeField(db_field='addDate', default=datetime.datetime.now)\n",
      "    category = db.StringField()\n",
      "    tags = db.ListField(db.StringField())\n",
      "    \n",
      "    meta = {\n",
      "        'indexes': [\n",
      "            '-date',\n",
      "            'tags',\n",
      "            ('category', '-date')\n",
      "        ],\n",
      "        'allow_inheritance': True\n",
      "    }\n",
      "       "
     ],
     "language": "python",
     "metadata": {},
     "outputs": [],
     "prompt_number": 5
    },
    {
     "cell_type": "markdown",
     "metadata": {},
     "source": [
      "In the example above we have created an Ascending index on `date`, an index on `tags` and a compound index\n",
      "on `category` and `date`"
     ]
    },
    {
     "cell_type": "markdown",
     "metadata": {},
     "source": [
      "## Exercises\n",
      "\n",
      "1. What indexes would you create for the `Post` document?\n",
      "1. What happens if you dont include `allow_inheritance` setting for a document.\n",
      "1. What happens if you turn inheritance off and try to inherit from the document."
     ]
    }
   ],
   "metadata": {}
  }
 ]
}
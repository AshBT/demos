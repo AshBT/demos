{
 "metadata": {
  "name": ""
 },
 "nbformat": 3,
 "nbformat_minor": 0,
 "worksheets": [
  {
   "cells": [
    {
     "cell_type": "markdown",
     "metadata": {},
     "source": [
      "# Querying\n",
      "\n",
      "In the previous lesson we saw how to do simple `find` and `findOne`\n",
      "queries. Now we will show how to query for specific documents and\n",
      "use some of MongoDB's advanced query operators.\n",
      "\n",
      "Queries use a document-style (or query by example) syntax. This query\n",
      "says \"find me all the documents that have a score of 90\"."
     ]
    },
    {
     "cell_type": "code",
     "collapsed": false,
     "input": [
      "%%mongo\n",
      "db.scores.find({\"score\": 90})"
     ],
     "language": "python",
     "metadata": {},
     "outputs": [
      {
       "output_type": "stream",
       "stream": "stdout",
       "text": [
        "{ \"_id\" : ObjectId(\"4c90f2543d937c033f424707\"), \"student\" : 2, \"name\" : \"quiz\", \"score\" : 90 }\n",
        "{ \"_id\" : ObjectId(\"4c90f2543d937c033f42472d\"), \"student\" : 14, \"name\" : \"exam\", \"score\" : 90 }\n",
        "{ \"_id\" : ObjectId(\"4c90f2543d937c033f4247fb\"), \"student\" : 83, \"name\" : \"essay\", \"score\" : 90 }\n",
        "{ \"_id\" : ObjectId(\"4c90f2543d937c033f424800\"), \"student\" : 85, \"name\" : \"quiz\", \"score\" : 90 }\n",
        "{ \"_id\" : ObjectId(\"4c90f2543d937c033f42480a\"), \"student\" : 88, \"name\" : \"essay\", \"score\" : 90 }\n",
        "{ \"_id\" : ObjectId(\"4c90f2543d937c033f42486c\"), \"student\" : 121, \"name\" : \"quiz\", \"score\" : 90 }\n",
        "{ \"_id\" : ObjectId(\"4c90f2543d937c033f4248a0\"), \"student\" : 138, \"name\" : \"essay\", \"score\" : 90 }\n",
        "{ \"_id\" : ObjectId(\"4c90f2543d937c033f424910\"), \"student\" : 175, \"name\" : \"exam\", \"score\" : 90 }\n",
        "{ \"_id\" : ObjectId(\"4c90f2543d937c033f424919\"), \"student\" : 178, \"name\" : \"exam\", \"score\" : 90 }\n",
        "{ \"_id\" : ObjectId(\"4c90f2543d937c033f424929\"), \"student\" : 184, \"name\" : \"quiz\", \"score\" : 90 }\n",
        "{ \"_id\" : ObjectId(\"4c90f2543d937c033f424934\"), \"student\" : 187, \"name\" : \"exam\", \"score\" : 90 }\n",
        "{ \"_id\" : ObjectId(\"4c90f2543d937c033f42493b\"), \"student\" : 190, \"name\" : \"quiz\", \"score\" : 90 }\n",
        "{ \"_id\" : ObjectId(\"4c90f2543d937c033f424a2e\"), \"student\" : 271, \"name\" : \"quiz\", \"score\" : 90 }\n",
        "{ \"_id\" : ObjectId(\"4c90f2543d937c033f424a66\"), \"student\" : 289, \"name\" : \"exam\", \"score\" : 90 }\n",
        "{ \"_id\" : ObjectId(\"4c90f2543d937c033f424a79\"), \"student\" : 296, \"name\" : \"quiz\", \"score\" : 90 }\n",
        "{ \"_id\" : ObjectId(\"4c90f2543d937c033f424a98\"), \"student\" : 306, \"name\" : \"essay\", \"score\" : 90 }\n",
        "{ \"_id\" : ObjectId(\"4c90f2543d937c033f424a9c\"), \"student\" : 307, \"name\" : \"exam\", \"score\" : 90 }\n",
        "{ \"_id\" : ObjectId(\"4c90f2543d937c033f424aa8\"), \"student\" : 311, \"name\" : \"exam\", \"score\" : 90 }\n",
        "{ \"_id\" : ObjectId(\"4c90f2543d937c033f424ad5\"), \"student\" : 326, \"name\" : \"exam\", \"score\" : 90 }\n",
        "{ \"_id\" : ObjectId(\"4c90f2543d937c033f424b20\"), \"student\" : 351, \"name\" : \"exam\", \"score\" : 90 }\n",
        "Type \"it\" for more\n",
        "\n"
       ]
      }
     ],
     "prompt_number": 1
    },
    {
     "cell_type": "markdown",
     "metadata": {},
     "source": [
      "This time we will do the same query but add the count() method to only get\n",
      "the count of documents that match the query. We will use count() thoughout\n",
      "this lesson."
     ]
    },
    {
     "cell_type": "code",
     "collapsed": false,
     "input": [
      "%%mongo\n",
      "db.scores.find({\"score\": 90}).count()"
     ],
     "language": "python",
     "metadata": {},
     "outputs": [
      {
       "output_type": "stream",
       "stream": "stdout",
       "text": [
        "64\n",
        "\n"
       ]
      }
     ],
     "prompt_number": 2
    },
    {
     "cell_type": "markdown",
     "metadata": {},
     "source": [
      "Queries can also use special query operators. These operators include\n",
      "`$gt`, `$gte`, `$lt`, `$lte`, `$ne`, `$nin`, `$regex`, `$exists`, `$not`,\n",
      "`$or`, and many more. The following queries demonstate the use of some\n",
      "of these operators."
     ]
    },
    {
     "cell_type": "code",
     "collapsed": false,
     "input": [
      "%%mongo\n",
      "db.scores.find({\"score\": {\"$gt\": 90}}).count()"
     ],
     "language": "python",
     "metadata": {},
     "outputs": [
      {
       "output_type": "stream",
       "stream": "stdout",
       "text": [
        "562\n",
        "\n"
       ]
      }
     ],
     "prompt_number": 3
    },
    {
     "cell_type": "code",
     "collapsed": false,
     "input": [
      "%%mongo\n",
      "db.scores.findOne({\"score\": {\"$lte\": 60}, \"name\": \"exam\"})"
     ],
     "language": "python",
     "metadata": {},
     "outputs": [
      {
       "output_type": "stream",
       "stream": "stdout",
       "text": [
        "{\n",
        "\t\"_id\" : ObjectId(\"4c90f2543d937c033f424703\"),\n",
        "\t\"student\" : 0,\n",
        "\t\"name\" : \"exam\",\n",
        "\t\"score\" : 56\n",
        "}\n",
        "\n"
       ]
      }
     ],
     "prompt_number": 6
    },
    {
     "cell_type": "code",
     "collapsed": false,
     "input": [
      "%%mongo\n",
      "db.scores.find({\"name\": {\"$in\": [\"quiz\", \"exam\"]}}).count()"
     ],
     "language": "python",
     "metadata": {},
     "outputs": [
      {
       "output_type": "stream",
       "stream": "stdout",
       "text": [
        "2000\n",
        "\n"
       ]
      }
     ],
     "prompt_number": 5
    },
    {
     "cell_type": "code",
     "collapsed": false,
     "input": [
      "%%mongo\n",
      "db.scores.find({\"$or\": [{\"name\": \"quiz\"}, {\"score\": 50}]}).count()"
     ],
     "language": "python",
     "metadata": {},
     "outputs": [
      {
       "output_type": "stream",
       "stream": "stdout",
       "text": [
        "1035\n",
        "\n"
       ]
      }
     ],
     "prompt_number": 5
    },
    {
     "cell_type": "code",
     "collapsed": false,
     "input": [
      "%%mongo\n",
      "db.scores.findOne({\"name\": {\"$nin\": [\"quiz\", \"exam\"]}})"
     ],
     "language": "python",
     "metadata": {},
     "outputs": [
      {
       "output_type": "stream",
       "stream": "stdout",
       "text": [
        "{\n",
        "\t\"_id\" : ObjectId(\"4c90f2543d937c033f424702\"),\n",
        "\t\"student\" : 0,\n",
        "\t\"name\" : \"essay\",\n",
        "\t\"score\" : 98\n",
        "}\n",
        "\n"
       ]
      }
     ],
     "prompt_number": 6
    },
    {
     "cell_type": "code",
     "collapsed": false,
     "input": [
      "%%mongo\n",
      "db.scores.findOne({'name': /^qu/i})"
     ],
     "language": "python",
     "metadata": {},
     "outputs": [
      {
       "output_type": "stream",
       "stream": "stdout",
       "text": [
        "{\n",
        "\t\"_id\" : ObjectId(\"4c90f2543d937c033f424701\"),\n",
        "\t\"student\" : 0,\n",
        "\t\"name\" : \"quiz\",\n",
        "\t\"score\" : 50\n",
        "}\n",
        "\n"
       ]
      }
     ],
     "prompt_number": 7
    },
    {
     "cell_type": "markdown",
     "metadata": {},
     "source": [
      "You can sort the query results on the server side using the sort\n",
      "method. Here's an example of using a descending sort to get the\n",
      "highest score in our example collection."
     ]
    },
    {
     "cell_type": "code",
     "collapsed": false,
     "input": [
      "%%mongo\n",
      "db.scores.find().sort({\"score\": -1}).next()"
     ],
     "language": "python",
     "metadata": {},
     "outputs": [
      {
       "output_type": "stream",
       "stream": "stdout",
       "text": [
        "{\n",
        "\t\"_id\" : ObjectId(\"4c90f2543d937c033f42471c\"),\n",
        "\t\"student\" : 9,\n",
        "\t\"name\" : \"quiz\",\n",
        "\t\"score\" : 99\n",
        "}\n",
        "\n"
       ]
      }
     ],
     "prompt_number": 8
    },
    {
     "cell_type": "markdown",
     "metadata": {},
     "source": [
      "If we only want the server to return the fist two documents that match the query we can add a limit()."
     ]
    },
    {
     "cell_type": "code",
     "collapsed": false,
     "input": [
      "%%mongo\n",
      "db.scores.find().sort({\"score\": -1}).limit(2)"
     ],
     "language": "python",
     "metadata": {},
     "outputs": [
      {
       "output_type": "stream",
       "stream": "stdout",
       "text": [
        "{ \"_id\" : ObjectId(\"4c90f2543d937c033f42471c\"), \"student\" : 9, \"name\" : \"quiz\", \"score\" : 99 }\n",
        "{ \"_id\" : ObjectId(\"4c90f2543d937c033f424804\"), \"student\" : 86, \"name\" : \"essay\", \"score\" : 99 }\n",
        "\n"
       ]
      }
     ],
     "prompt_number": 9
    },
    {
     "cell_type": "markdown",
     "metadata": {},
     "source": [
      "We can also have the server skip a number of documents. Notice that methods of\n",
      "the cursor object can be chained together."
     ]
    },
    {
     "cell_type": "code",
     "collapsed": false,
     "input": [
      "%%mongo\n",
      "db.scores.find().sort({\"score\": -1}).limit(2).skip(450)"
     ],
     "language": "python",
     "metadata": {},
     "outputs": [
      {
       "output_type": "stream",
       "stream": "stdout",
       "text": [
        "{ \"_id\" : ObjectId(\"4c90f2543d937c033f424c0f\"), \"student\" : 431, \"name\" : \"essay\", \"score\" : 92 }\n",
        "{ \"_id\" : ObjectId(\"4c90f2543d937c033f424c1a\"), \"student\" : 435, \"name\" : \"quiz\", \"score\" : 92 }\n",
        "\n"
       ]
      }
     ],
     "prompt_number": 10
    },
    {
     "cell_type": "markdown",
     "metadata": {},
     "source": [
      "We can also tell the server to only return certain fields from the matching documents."
     ]
    },
    {
     "cell_type": "code",
     "collapsed": false,
     "input": [
      "%%mongo\n",
      "db.scores.findOne({\"score\": {\"$gte\": 65}}, {\"score\": 1, \"_id\": 0})"
     ],
     "language": "python",
     "metadata": {},
     "outputs": [
      {
       "output_type": "stream",
       "stream": "stdout",
       "text": [
        "{ \"score\" : 98 }\n",
        "\n"
       ]
      }
     ],
     "prompt_number": 11
    },
    {
     "cell_type": "markdown",
     "metadata": {},
     "source": [
      "You can also use distinct() to find all distinct values of a field (with an optional query)."
     ]
    },
    {
     "cell_type": "code",
     "collapsed": false,
     "input": [
      "%%mongo\n",
      "db.scores.distinct(\"name\")"
     ],
     "language": "python",
     "metadata": {},
     "outputs": [
      {
       "output_type": "stream",
       "stream": "stdout",
       "text": [
        "[ \"quiz\", \"essay\", \"exam\" ]\n",
        "\n"
       ]
      }
     ],
     "prompt_number": 12
    },
    {
     "cell_type": "code",
     "collapsed": false,
     "input": [
      "%%mongo\n",
      "db.scores.distinct(\"score\", {\"score\": {\"$lte\": 60}})"
     ],
     "language": "python",
     "metadata": {},
     "outputs": [
      {
       "output_type": "stream",
       "stream": "stdout",
       "text": [
        "[ 50, 56, 58, 53, 54, 51, 57, 60, 59, 52, 55 ]\n",
        "\n"
       ]
      }
     ],
     "prompt_number": 13
    },
    {
     "cell_type": "markdown",
     "metadata": {},
     "source": [
      "In the shell the cursor is automatically run, so to get the cursor itself assign it to a variable then you can treat it as a cursor:"
     ]
    },
    {
     "cell_type": "code",
     "collapsed": false,
     "input": [
      "%%mongo\n",
      "var cursor = db.scores.find().limit(2);\n",
      "while ( cursor.hasNext() ) printjson( cursor.next() ) ;"
     ],
     "language": "python",
     "metadata": {},
     "outputs": [
      {
       "output_type": "stream",
       "stream": "stdout",
       "text": [
        "{\n",
        "\t\"_id\" : ObjectId(\"4c90f2543d937c033f424701\"),\n",
        "\t\"student\" : 0,\n",
        "\t\"name\" : \"quiz\",\n",
        "\t\"score\" : 50\n",
        "}\n",
        "{\n",
        "\t\"_id\" : ObjectId(\"4c90f2543d937c033f424702\"),\n",
        "\t\"student\" : 0,\n",
        "\t\"name\" : \"essay\",\n",
        "\t\"score\" : 98\n",
        "}\n",
        "\n"
       ]
      }
     ],
     "prompt_number": 14
    },
    {
     "cell_type": "markdown",
     "metadata": {},
     "source": [
      "See: http://docs.mongodb.org/manual/reference/operators/"
     ]
    },
    {
     "cell_type": "markdown",
     "metadata": {},
     "source": [
      "# Exercises\n",
      "\n",
      "1. In the training.scores collection, find all scores less than 65.\n",
      "2. Find the highest score. \n",
      "3. Find the lowest score."
     ]
    }
   ],
   "metadata": {}
  }
 ]
}